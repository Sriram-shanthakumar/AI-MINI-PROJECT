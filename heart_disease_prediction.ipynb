{
  "cells": [
    {
      "cell_type": "markdown",
      "metadata": {
        "id": "view-in-github",
        "colab_type": "text"
      },
      "source": [
        "<a href=\"https://colab.research.google.com/github/Sriram-shanthakumar/AI-MINI-PROJECT/blob/main/heart_disease_prediction.ipynb\" target=\"_parent\"><img src=\"https://colab.research.google.com/assets/colab-badge.svg\" alt=\"Open In Colab\"/></a>"
      ]
    },
    {
      "cell_type": "code",
      "execution_count": 1,
      "metadata": {
        "colab": {
          "base_uri": "https://localhost:8080/"
        },
        "id": "ba3d2964",
        "outputId": "b97c54ae-90cb-416f-a95b-2a2ca7a0c54e"
      },
      "outputs": [
        {
          "output_type": "stream",
          "name": "stdout",
          "text": [
            "['.config', 'Heart.csv', 'sample_data']\n"
          ]
        }
      ],
      "source": [
        "import numpy as np\n",
        "import pandas as pd\n",
        "import matplotlib.pyplot as plt\n",
        "import seaborn as sns\n",
        "\n",
        "%matplotlib inline\n",
        "\n",
        "import os\n",
        "print(os.listdir())\n",
        "\n",
        "import warnings\n",
        "warnings.filterwarnings('ignore')"
      ],
      "id": "ba3d2964"
    },
    {
      "cell_type": "code",
      "execution_count": 2,
      "metadata": {
        "id": "31b35998"
      },
      "outputs": [],
      "source": [
        "dataset = pd.read_csv(\"Heart.csv\")\n"
      ],
      "id": "31b35998"
    },
    {
      "cell_type": "code",
      "execution_count": 3,
      "metadata": {
        "colab": {
          "base_uri": "https://localhost:8080/"
        },
        "id": "130391fd",
        "outputId": "ca1efa3b-cc94-43ba-8ab3-7107c4eb4003"
      },
      "outputs": [
        {
          "output_type": "execute_result",
          "data": {
            "text/plain": [
              "pandas.core.frame.DataFrame"
            ]
          },
          "metadata": {},
          "execution_count": 3
        }
      ],
      "source": [
        "type(dataset)\n"
      ],
      "id": "130391fd"
    },
    {
      "cell_type": "code",
      "execution_count": 4,
      "metadata": {
        "colab": {
          "base_uri": "https://localhost:8080/"
        },
        "id": "18275374",
        "outputId": "e06f13e0-4dc0-4aef-923f-09bc2c7e2c3c"
      },
      "outputs": [
        {
          "output_type": "execute_result",
          "data": {
            "text/plain": [
              "(303, 14)"
            ]
          },
          "metadata": {},
          "execution_count": 4
        }
      ],
      "source": [
        "dataset.shape\n"
      ],
      "id": "18275374"
    },
    {
      "cell_type": "code",
      "execution_count": 5,
      "metadata": {
        "colab": {
          "base_uri": "https://localhost:8080/",
          "height": 206
        },
        "id": "80148efe",
        "outputId": "345498ca-28c7-4f57-fd59-a2e7ec91723a"
      },
      "outputs": [
        {
          "output_type": "execute_result",
          "data": {
            "text/plain": [
              "   age  sex  cp  trestbps  chol  fbs  restecg  thalach  exang  oldpeak  slope  \\\n",
              "0   63    1   3       145   233    1        0      150      0      2.3      0   \n",
              "1   37    1   2       130   250    0        1      187      0      3.5      0   \n",
              "2   41    0   1       130   204    0        0      172      0      1.4      2   \n",
              "3   56    1   1       120   236    0        1      178      0      0.8      2   \n",
              "4   57    0   0       120   354    0        1      163      1      0.6      2   \n",
              "\n",
              "   ca  thal  target  \n",
              "0   0     1       1  \n",
              "1   0     2       1  \n",
              "2   0     2       1  \n",
              "3   0     2       1  \n",
              "4   0     2       1  "
            ],
            "text/html": [
              "\n",
              "  <div id=\"df-4bab0a58-4462-465c-b2ca-a596bd96a9a4\">\n",
              "    <div class=\"colab-df-container\">\n",
              "      <div>\n",
              "<style scoped>\n",
              "    .dataframe tbody tr th:only-of-type {\n",
              "        vertical-align: middle;\n",
              "    }\n",
              "\n",
              "    .dataframe tbody tr th {\n",
              "        vertical-align: top;\n",
              "    }\n",
              "\n",
              "    .dataframe thead th {\n",
              "        text-align: right;\n",
              "    }\n",
              "</style>\n",
              "<table border=\"1\" class=\"dataframe\">\n",
              "  <thead>\n",
              "    <tr style=\"text-align: right;\">\n",
              "      <th></th>\n",
              "      <th>age</th>\n",
              "      <th>sex</th>\n",
              "      <th>cp</th>\n",
              "      <th>trestbps</th>\n",
              "      <th>chol</th>\n",
              "      <th>fbs</th>\n",
              "      <th>restecg</th>\n",
              "      <th>thalach</th>\n",
              "      <th>exang</th>\n",
              "      <th>oldpeak</th>\n",
              "      <th>slope</th>\n",
              "      <th>ca</th>\n",
              "      <th>thal</th>\n",
              "      <th>target</th>\n",
              "    </tr>\n",
              "  </thead>\n",
              "  <tbody>\n",
              "    <tr>\n",
              "      <th>0</th>\n",
              "      <td>63</td>\n",
              "      <td>1</td>\n",
              "      <td>3</td>\n",
              "      <td>145</td>\n",
              "      <td>233</td>\n",
              "      <td>1</td>\n",
              "      <td>0</td>\n",
              "      <td>150</td>\n",
              "      <td>0</td>\n",
              "      <td>2.3</td>\n",
              "      <td>0</td>\n",
              "      <td>0</td>\n",
              "      <td>1</td>\n",
              "      <td>1</td>\n",
              "    </tr>\n",
              "    <tr>\n",
              "      <th>1</th>\n",
              "      <td>37</td>\n",
              "      <td>1</td>\n",
              "      <td>2</td>\n",
              "      <td>130</td>\n",
              "      <td>250</td>\n",
              "      <td>0</td>\n",
              "      <td>1</td>\n",
              "      <td>187</td>\n",
              "      <td>0</td>\n",
              "      <td>3.5</td>\n",
              "      <td>0</td>\n",
              "      <td>0</td>\n",
              "      <td>2</td>\n",
              "      <td>1</td>\n",
              "    </tr>\n",
              "    <tr>\n",
              "      <th>2</th>\n",
              "      <td>41</td>\n",
              "      <td>0</td>\n",
              "      <td>1</td>\n",
              "      <td>130</td>\n",
              "      <td>204</td>\n",
              "      <td>0</td>\n",
              "      <td>0</td>\n",
              "      <td>172</td>\n",
              "      <td>0</td>\n",
              "      <td>1.4</td>\n",
              "      <td>2</td>\n",
              "      <td>0</td>\n",
              "      <td>2</td>\n",
              "      <td>1</td>\n",
              "    </tr>\n",
              "    <tr>\n",
              "      <th>3</th>\n",
              "      <td>56</td>\n",
              "      <td>1</td>\n",
              "      <td>1</td>\n",
              "      <td>120</td>\n",
              "      <td>236</td>\n",
              "      <td>0</td>\n",
              "      <td>1</td>\n",
              "      <td>178</td>\n",
              "      <td>0</td>\n",
              "      <td>0.8</td>\n",
              "      <td>2</td>\n",
              "      <td>0</td>\n",
              "      <td>2</td>\n",
              "      <td>1</td>\n",
              "    </tr>\n",
              "    <tr>\n",
              "      <th>4</th>\n",
              "      <td>57</td>\n",
              "      <td>0</td>\n",
              "      <td>0</td>\n",
              "      <td>120</td>\n",
              "      <td>354</td>\n",
              "      <td>0</td>\n",
              "      <td>1</td>\n",
              "      <td>163</td>\n",
              "      <td>1</td>\n",
              "      <td>0.6</td>\n",
              "      <td>2</td>\n",
              "      <td>0</td>\n",
              "      <td>2</td>\n",
              "      <td>1</td>\n",
              "    </tr>\n",
              "  </tbody>\n",
              "</table>\n",
              "</div>\n",
              "      <button class=\"colab-df-convert\" onclick=\"convertToInteractive('df-4bab0a58-4462-465c-b2ca-a596bd96a9a4')\"\n",
              "              title=\"Convert this dataframe to an interactive table.\"\n",
              "              style=\"display:none;\">\n",
              "        \n",
              "  <svg xmlns=\"http://www.w3.org/2000/svg\" height=\"24px\"viewBox=\"0 0 24 24\"\n",
              "       width=\"24px\">\n",
              "    <path d=\"M0 0h24v24H0V0z\" fill=\"none\"/>\n",
              "    <path d=\"M18.56 5.44l.94 2.06.94-2.06 2.06-.94-2.06-.94-.94-2.06-.94 2.06-2.06.94zm-11 1L8.5 8.5l.94-2.06 2.06-.94-2.06-.94L8.5 2.5l-.94 2.06-2.06.94zm10 10l.94 2.06.94-2.06 2.06-.94-2.06-.94-.94-2.06-.94 2.06-2.06.94z\"/><path d=\"M17.41 7.96l-1.37-1.37c-.4-.4-.92-.59-1.43-.59-.52 0-1.04.2-1.43.59L10.3 9.45l-7.72 7.72c-.78.78-.78 2.05 0 2.83L4 21.41c.39.39.9.59 1.41.59.51 0 1.02-.2 1.41-.59l7.78-7.78 2.81-2.81c.8-.78.8-2.07 0-2.86zM5.41 20L4 18.59l7.72-7.72 1.47 1.35L5.41 20z\"/>\n",
              "  </svg>\n",
              "      </button>\n",
              "      \n",
              "  <style>\n",
              "    .colab-df-container {\n",
              "      display:flex;\n",
              "      flex-wrap:wrap;\n",
              "      gap: 12px;\n",
              "    }\n",
              "\n",
              "    .colab-df-convert {\n",
              "      background-color: #E8F0FE;\n",
              "      border: none;\n",
              "      border-radius: 50%;\n",
              "      cursor: pointer;\n",
              "      display: none;\n",
              "      fill: #1967D2;\n",
              "      height: 32px;\n",
              "      padding: 0 0 0 0;\n",
              "      width: 32px;\n",
              "    }\n",
              "\n",
              "    .colab-df-convert:hover {\n",
              "      background-color: #E2EBFA;\n",
              "      box-shadow: 0px 1px 2px rgba(60, 64, 67, 0.3), 0px 1px 3px 1px rgba(60, 64, 67, 0.15);\n",
              "      fill: #174EA6;\n",
              "    }\n",
              "\n",
              "    [theme=dark] .colab-df-convert {\n",
              "      background-color: #3B4455;\n",
              "      fill: #D2E3FC;\n",
              "    }\n",
              "\n",
              "    [theme=dark] .colab-df-convert:hover {\n",
              "      background-color: #434B5C;\n",
              "      box-shadow: 0px 1px 3px 1px rgba(0, 0, 0, 0.15);\n",
              "      filter: drop-shadow(0px 1px 2px rgba(0, 0, 0, 0.3));\n",
              "      fill: #FFFFFF;\n",
              "    }\n",
              "  </style>\n",
              "\n",
              "      <script>\n",
              "        const buttonEl =\n",
              "          document.querySelector('#df-4bab0a58-4462-465c-b2ca-a596bd96a9a4 button.colab-df-convert');\n",
              "        buttonEl.style.display =\n",
              "          google.colab.kernel.accessAllowed ? 'block' : 'none';\n",
              "\n",
              "        async function convertToInteractive(key) {\n",
              "          const element = document.querySelector('#df-4bab0a58-4462-465c-b2ca-a596bd96a9a4');\n",
              "          const dataTable =\n",
              "            await google.colab.kernel.invokeFunction('convertToInteractive',\n",
              "                                                     [key], {});\n",
              "          if (!dataTable) return;\n",
              "\n",
              "          const docLinkHtml = 'Like what you see? Visit the ' +\n",
              "            '<a target=\"_blank\" href=https://colab.research.google.com/notebooks/data_table.ipynb>data table notebook</a>'\n",
              "            + ' to learn more about interactive tables.';\n",
              "          element.innerHTML = '';\n",
              "          dataTable['output_type'] = 'display_data';\n",
              "          await google.colab.output.renderOutput(dataTable, element);\n",
              "          const docLink = document.createElement('div');\n",
              "          docLink.innerHTML = docLinkHtml;\n",
              "          element.appendChild(docLink);\n",
              "        }\n",
              "      </script>\n",
              "    </div>\n",
              "  </div>\n",
              "  "
            ]
          },
          "metadata": {},
          "execution_count": 5
        }
      ],
      "source": [
        "dataset.head(5)\n"
      ],
      "id": "80148efe"
    },
    {
      "cell_type": "code",
      "execution_count": 6,
      "metadata": {
        "colab": {
          "base_uri": "https://localhost:8080/",
          "height": 206
        },
        "id": "50477aea",
        "outputId": "f9514e41-a516-4f95-f586-27cbbb834373"
      },
      "outputs": [
        {
          "output_type": "execute_result",
          "data": {
            "text/plain": [
              "     age  sex  cp  trestbps  chol  fbs  restecg  thalach  exang  oldpeak  \\\n",
              "211   61    1   0       120   260    0        1      140      1      3.6   \n",
              "202   58    1   0       150   270    0        0      111      1      0.8   \n",
              "255   45    1   0       142   309    0        0      147      1      0.0   \n",
              "174   60    1   0       130   206    0        0      132      1      2.4   \n",
              "68    44    1   1       120   220    0        1      170      0      0.0   \n",
              "\n",
              "     slope  ca  thal  target  \n",
              "211      1   1     3       0  \n",
              "202      2   0     3       0  \n",
              "255      1   3     3       0  \n",
              "174      1   2     3       0  \n",
              "68       2   0     2       1  "
            ],
            "text/html": [
              "\n",
              "  <div id=\"df-baefb2f3-31df-4394-9972-02fd5076cf74\">\n",
              "    <div class=\"colab-df-container\">\n",
              "      <div>\n",
              "<style scoped>\n",
              "    .dataframe tbody tr th:only-of-type {\n",
              "        vertical-align: middle;\n",
              "    }\n",
              "\n",
              "    .dataframe tbody tr th {\n",
              "        vertical-align: top;\n",
              "    }\n",
              "\n",
              "    .dataframe thead th {\n",
              "        text-align: right;\n",
              "    }\n",
              "</style>\n",
              "<table border=\"1\" class=\"dataframe\">\n",
              "  <thead>\n",
              "    <tr style=\"text-align: right;\">\n",
              "      <th></th>\n",
              "      <th>age</th>\n",
              "      <th>sex</th>\n",
              "      <th>cp</th>\n",
              "      <th>trestbps</th>\n",
              "      <th>chol</th>\n",
              "      <th>fbs</th>\n",
              "      <th>restecg</th>\n",
              "      <th>thalach</th>\n",
              "      <th>exang</th>\n",
              "      <th>oldpeak</th>\n",
              "      <th>slope</th>\n",
              "      <th>ca</th>\n",
              "      <th>thal</th>\n",
              "      <th>target</th>\n",
              "    </tr>\n",
              "  </thead>\n",
              "  <tbody>\n",
              "    <tr>\n",
              "      <th>211</th>\n",
              "      <td>61</td>\n",
              "      <td>1</td>\n",
              "      <td>0</td>\n",
              "      <td>120</td>\n",
              "      <td>260</td>\n",
              "      <td>0</td>\n",
              "      <td>1</td>\n",
              "      <td>140</td>\n",
              "      <td>1</td>\n",
              "      <td>3.6</td>\n",
              "      <td>1</td>\n",
              "      <td>1</td>\n",
              "      <td>3</td>\n",
              "      <td>0</td>\n",
              "    </tr>\n",
              "    <tr>\n",
              "      <th>202</th>\n",
              "      <td>58</td>\n",
              "      <td>1</td>\n",
              "      <td>0</td>\n",
              "      <td>150</td>\n",
              "      <td>270</td>\n",
              "      <td>0</td>\n",
              "      <td>0</td>\n",
              "      <td>111</td>\n",
              "      <td>1</td>\n",
              "      <td>0.8</td>\n",
              "      <td>2</td>\n",
              "      <td>0</td>\n",
              "      <td>3</td>\n",
              "      <td>0</td>\n",
              "    </tr>\n",
              "    <tr>\n",
              "      <th>255</th>\n",
              "      <td>45</td>\n",
              "      <td>1</td>\n",
              "      <td>0</td>\n",
              "      <td>142</td>\n",
              "      <td>309</td>\n",
              "      <td>0</td>\n",
              "      <td>0</td>\n",
              "      <td>147</td>\n",
              "      <td>1</td>\n",
              "      <td>0.0</td>\n",
              "      <td>1</td>\n",
              "      <td>3</td>\n",
              "      <td>3</td>\n",
              "      <td>0</td>\n",
              "    </tr>\n",
              "    <tr>\n",
              "      <th>174</th>\n",
              "      <td>60</td>\n",
              "      <td>1</td>\n",
              "      <td>0</td>\n",
              "      <td>130</td>\n",
              "      <td>206</td>\n",
              "      <td>0</td>\n",
              "      <td>0</td>\n",
              "      <td>132</td>\n",
              "      <td>1</td>\n",
              "      <td>2.4</td>\n",
              "      <td>1</td>\n",
              "      <td>2</td>\n",
              "      <td>3</td>\n",
              "      <td>0</td>\n",
              "    </tr>\n",
              "    <tr>\n",
              "      <th>68</th>\n",
              "      <td>44</td>\n",
              "      <td>1</td>\n",
              "      <td>1</td>\n",
              "      <td>120</td>\n",
              "      <td>220</td>\n",
              "      <td>0</td>\n",
              "      <td>1</td>\n",
              "      <td>170</td>\n",
              "      <td>0</td>\n",
              "      <td>0.0</td>\n",
              "      <td>2</td>\n",
              "      <td>0</td>\n",
              "      <td>2</td>\n",
              "      <td>1</td>\n",
              "    </tr>\n",
              "  </tbody>\n",
              "</table>\n",
              "</div>\n",
              "      <button class=\"colab-df-convert\" onclick=\"convertToInteractive('df-baefb2f3-31df-4394-9972-02fd5076cf74')\"\n",
              "              title=\"Convert this dataframe to an interactive table.\"\n",
              "              style=\"display:none;\">\n",
              "        \n",
              "  <svg xmlns=\"http://www.w3.org/2000/svg\" height=\"24px\"viewBox=\"0 0 24 24\"\n",
              "       width=\"24px\">\n",
              "    <path d=\"M0 0h24v24H0V0z\" fill=\"none\"/>\n",
              "    <path d=\"M18.56 5.44l.94 2.06.94-2.06 2.06-.94-2.06-.94-.94-2.06-.94 2.06-2.06.94zm-11 1L8.5 8.5l.94-2.06 2.06-.94-2.06-.94L8.5 2.5l-.94 2.06-2.06.94zm10 10l.94 2.06.94-2.06 2.06-.94-2.06-.94-.94-2.06-.94 2.06-2.06.94z\"/><path d=\"M17.41 7.96l-1.37-1.37c-.4-.4-.92-.59-1.43-.59-.52 0-1.04.2-1.43.59L10.3 9.45l-7.72 7.72c-.78.78-.78 2.05 0 2.83L4 21.41c.39.39.9.59 1.41.59.51 0 1.02-.2 1.41-.59l7.78-7.78 2.81-2.81c.8-.78.8-2.07 0-2.86zM5.41 20L4 18.59l7.72-7.72 1.47 1.35L5.41 20z\"/>\n",
              "  </svg>\n",
              "      </button>\n",
              "      \n",
              "  <style>\n",
              "    .colab-df-container {\n",
              "      display:flex;\n",
              "      flex-wrap:wrap;\n",
              "      gap: 12px;\n",
              "    }\n",
              "\n",
              "    .colab-df-convert {\n",
              "      background-color: #E8F0FE;\n",
              "      border: none;\n",
              "      border-radius: 50%;\n",
              "      cursor: pointer;\n",
              "      display: none;\n",
              "      fill: #1967D2;\n",
              "      height: 32px;\n",
              "      padding: 0 0 0 0;\n",
              "      width: 32px;\n",
              "    }\n",
              "\n",
              "    .colab-df-convert:hover {\n",
              "      background-color: #E2EBFA;\n",
              "      box-shadow: 0px 1px 2px rgba(60, 64, 67, 0.3), 0px 1px 3px 1px rgba(60, 64, 67, 0.15);\n",
              "      fill: #174EA6;\n",
              "    }\n",
              "\n",
              "    [theme=dark] .colab-df-convert {\n",
              "      background-color: #3B4455;\n",
              "      fill: #D2E3FC;\n",
              "    }\n",
              "\n",
              "    [theme=dark] .colab-df-convert:hover {\n",
              "      background-color: #434B5C;\n",
              "      box-shadow: 0px 1px 3px 1px rgba(0, 0, 0, 0.15);\n",
              "      filter: drop-shadow(0px 1px 2px rgba(0, 0, 0, 0.3));\n",
              "      fill: #FFFFFF;\n",
              "    }\n",
              "  </style>\n",
              "\n",
              "      <script>\n",
              "        const buttonEl =\n",
              "          document.querySelector('#df-baefb2f3-31df-4394-9972-02fd5076cf74 button.colab-df-convert');\n",
              "        buttonEl.style.display =\n",
              "          google.colab.kernel.accessAllowed ? 'block' : 'none';\n",
              "\n",
              "        async function convertToInteractive(key) {\n",
              "          const element = document.querySelector('#df-baefb2f3-31df-4394-9972-02fd5076cf74');\n",
              "          const dataTable =\n",
              "            await google.colab.kernel.invokeFunction('convertToInteractive',\n",
              "                                                     [key], {});\n",
              "          if (!dataTable) return;\n",
              "\n",
              "          const docLinkHtml = 'Like what you see? Visit the ' +\n",
              "            '<a target=\"_blank\" href=https://colab.research.google.com/notebooks/data_table.ipynb>data table notebook</a>'\n",
              "            + ' to learn more about interactive tables.';\n",
              "          element.innerHTML = '';\n",
              "          dataTable['output_type'] = 'display_data';\n",
              "          await google.colab.output.renderOutput(dataTable, element);\n",
              "          const docLink = document.createElement('div');\n",
              "          docLink.innerHTML = docLinkHtml;\n",
              "          element.appendChild(docLink);\n",
              "        }\n",
              "      </script>\n",
              "    </div>\n",
              "  </div>\n",
              "  "
            ]
          },
          "metadata": {},
          "execution_count": 6
        }
      ],
      "source": [
        "dataset.sample(5)\n"
      ],
      "id": "50477aea"
    },
    {
      "cell_type": "code",
      "execution_count": 7,
      "metadata": {
        "colab": {
          "base_uri": "https://localhost:8080/",
          "height": 364
        },
        "id": "b56201a7",
        "outputId": "d4598a10-e4e8-4d9f-be35-2c4dd5e35bfd"
      },
      "outputs": [
        {
          "output_type": "execute_result",
          "data": {
            "text/plain": [
              "              age         sex          cp    trestbps        chol         fbs  \\\n",
              "count  303.000000  303.000000  303.000000  303.000000  303.000000  303.000000   \n",
              "mean    54.366337    0.683168    0.966997  131.623762  246.264026    0.148515   \n",
              "std      9.082101    0.466011    1.032052   17.538143   51.830751    0.356198   \n",
              "min     29.000000    0.000000    0.000000   94.000000  126.000000    0.000000   \n",
              "25%     47.500000    0.000000    0.000000  120.000000  211.000000    0.000000   \n",
              "50%     55.000000    1.000000    1.000000  130.000000  240.000000    0.000000   \n",
              "75%     61.000000    1.000000    2.000000  140.000000  274.500000    0.000000   \n",
              "max     77.000000    1.000000    3.000000  200.000000  564.000000    1.000000   \n",
              "\n",
              "          restecg     thalach       exang     oldpeak       slope          ca  \\\n",
              "count  303.000000  303.000000  303.000000  303.000000  303.000000  303.000000   \n",
              "mean     0.528053  149.646865    0.326733    1.039604    1.399340    0.729373   \n",
              "std      0.525860   22.905161    0.469794    1.161075    0.616226    1.022606   \n",
              "min      0.000000   71.000000    0.000000    0.000000    0.000000    0.000000   \n",
              "25%      0.000000  133.500000    0.000000    0.000000    1.000000    0.000000   \n",
              "50%      1.000000  153.000000    0.000000    0.800000    1.000000    0.000000   \n",
              "75%      1.000000  166.000000    1.000000    1.600000    2.000000    1.000000   \n",
              "max      2.000000  202.000000    1.000000    6.200000    2.000000    4.000000   \n",
              "\n",
              "             thal      target  \n",
              "count  303.000000  303.000000  \n",
              "mean     2.313531    0.544554  \n",
              "std      0.612277    0.498835  \n",
              "min      0.000000    0.000000  \n",
              "25%      2.000000    0.000000  \n",
              "50%      2.000000    1.000000  \n",
              "75%      3.000000    1.000000  \n",
              "max      3.000000    1.000000  "
            ],
            "text/html": [
              "\n",
              "  <div id=\"df-392f12d9-4e97-4ff5-a16d-b8d597c579dc\">\n",
              "    <div class=\"colab-df-container\">\n",
              "      <div>\n",
              "<style scoped>\n",
              "    .dataframe tbody tr th:only-of-type {\n",
              "        vertical-align: middle;\n",
              "    }\n",
              "\n",
              "    .dataframe tbody tr th {\n",
              "        vertical-align: top;\n",
              "    }\n",
              "\n",
              "    .dataframe thead th {\n",
              "        text-align: right;\n",
              "    }\n",
              "</style>\n",
              "<table border=\"1\" class=\"dataframe\">\n",
              "  <thead>\n",
              "    <tr style=\"text-align: right;\">\n",
              "      <th></th>\n",
              "      <th>age</th>\n",
              "      <th>sex</th>\n",
              "      <th>cp</th>\n",
              "      <th>trestbps</th>\n",
              "      <th>chol</th>\n",
              "      <th>fbs</th>\n",
              "      <th>restecg</th>\n",
              "      <th>thalach</th>\n",
              "      <th>exang</th>\n",
              "      <th>oldpeak</th>\n",
              "      <th>slope</th>\n",
              "      <th>ca</th>\n",
              "      <th>thal</th>\n",
              "      <th>target</th>\n",
              "    </tr>\n",
              "  </thead>\n",
              "  <tbody>\n",
              "    <tr>\n",
              "      <th>count</th>\n",
              "      <td>303.000000</td>\n",
              "      <td>303.000000</td>\n",
              "      <td>303.000000</td>\n",
              "      <td>303.000000</td>\n",
              "      <td>303.000000</td>\n",
              "      <td>303.000000</td>\n",
              "      <td>303.000000</td>\n",
              "      <td>303.000000</td>\n",
              "      <td>303.000000</td>\n",
              "      <td>303.000000</td>\n",
              "      <td>303.000000</td>\n",
              "      <td>303.000000</td>\n",
              "      <td>303.000000</td>\n",
              "      <td>303.000000</td>\n",
              "    </tr>\n",
              "    <tr>\n",
              "      <th>mean</th>\n",
              "      <td>54.366337</td>\n",
              "      <td>0.683168</td>\n",
              "      <td>0.966997</td>\n",
              "      <td>131.623762</td>\n",
              "      <td>246.264026</td>\n",
              "      <td>0.148515</td>\n",
              "      <td>0.528053</td>\n",
              "      <td>149.646865</td>\n",
              "      <td>0.326733</td>\n",
              "      <td>1.039604</td>\n",
              "      <td>1.399340</td>\n",
              "      <td>0.729373</td>\n",
              "      <td>2.313531</td>\n",
              "      <td>0.544554</td>\n",
              "    </tr>\n",
              "    <tr>\n",
              "      <th>std</th>\n",
              "      <td>9.082101</td>\n",
              "      <td>0.466011</td>\n",
              "      <td>1.032052</td>\n",
              "      <td>17.538143</td>\n",
              "      <td>51.830751</td>\n",
              "      <td>0.356198</td>\n",
              "      <td>0.525860</td>\n",
              "      <td>22.905161</td>\n",
              "      <td>0.469794</td>\n",
              "      <td>1.161075</td>\n",
              "      <td>0.616226</td>\n",
              "      <td>1.022606</td>\n",
              "      <td>0.612277</td>\n",
              "      <td>0.498835</td>\n",
              "    </tr>\n",
              "    <tr>\n",
              "      <th>min</th>\n",
              "      <td>29.000000</td>\n",
              "      <td>0.000000</td>\n",
              "      <td>0.000000</td>\n",
              "      <td>94.000000</td>\n",
              "      <td>126.000000</td>\n",
              "      <td>0.000000</td>\n",
              "      <td>0.000000</td>\n",
              "      <td>71.000000</td>\n",
              "      <td>0.000000</td>\n",
              "      <td>0.000000</td>\n",
              "      <td>0.000000</td>\n",
              "      <td>0.000000</td>\n",
              "      <td>0.000000</td>\n",
              "      <td>0.000000</td>\n",
              "    </tr>\n",
              "    <tr>\n",
              "      <th>25%</th>\n",
              "      <td>47.500000</td>\n",
              "      <td>0.000000</td>\n",
              "      <td>0.000000</td>\n",
              "      <td>120.000000</td>\n",
              "      <td>211.000000</td>\n",
              "      <td>0.000000</td>\n",
              "      <td>0.000000</td>\n",
              "      <td>133.500000</td>\n",
              "      <td>0.000000</td>\n",
              "      <td>0.000000</td>\n",
              "      <td>1.000000</td>\n",
              "      <td>0.000000</td>\n",
              "      <td>2.000000</td>\n",
              "      <td>0.000000</td>\n",
              "    </tr>\n",
              "    <tr>\n",
              "      <th>50%</th>\n",
              "      <td>55.000000</td>\n",
              "      <td>1.000000</td>\n",
              "      <td>1.000000</td>\n",
              "      <td>130.000000</td>\n",
              "      <td>240.000000</td>\n",
              "      <td>0.000000</td>\n",
              "      <td>1.000000</td>\n",
              "      <td>153.000000</td>\n",
              "      <td>0.000000</td>\n",
              "      <td>0.800000</td>\n",
              "      <td>1.000000</td>\n",
              "      <td>0.000000</td>\n",
              "      <td>2.000000</td>\n",
              "      <td>1.000000</td>\n",
              "    </tr>\n",
              "    <tr>\n",
              "      <th>75%</th>\n",
              "      <td>61.000000</td>\n",
              "      <td>1.000000</td>\n",
              "      <td>2.000000</td>\n",
              "      <td>140.000000</td>\n",
              "      <td>274.500000</td>\n",
              "      <td>0.000000</td>\n",
              "      <td>1.000000</td>\n",
              "      <td>166.000000</td>\n",
              "      <td>1.000000</td>\n",
              "      <td>1.600000</td>\n",
              "      <td>2.000000</td>\n",
              "      <td>1.000000</td>\n",
              "      <td>3.000000</td>\n",
              "      <td>1.000000</td>\n",
              "    </tr>\n",
              "    <tr>\n",
              "      <th>max</th>\n",
              "      <td>77.000000</td>\n",
              "      <td>1.000000</td>\n",
              "      <td>3.000000</td>\n",
              "      <td>200.000000</td>\n",
              "      <td>564.000000</td>\n",
              "      <td>1.000000</td>\n",
              "      <td>2.000000</td>\n",
              "      <td>202.000000</td>\n",
              "      <td>1.000000</td>\n",
              "      <td>6.200000</td>\n",
              "      <td>2.000000</td>\n",
              "      <td>4.000000</td>\n",
              "      <td>3.000000</td>\n",
              "      <td>1.000000</td>\n",
              "    </tr>\n",
              "  </tbody>\n",
              "</table>\n",
              "</div>\n",
              "      <button class=\"colab-df-convert\" onclick=\"convertToInteractive('df-392f12d9-4e97-4ff5-a16d-b8d597c579dc')\"\n",
              "              title=\"Convert this dataframe to an interactive table.\"\n",
              "              style=\"display:none;\">\n",
              "        \n",
              "  <svg xmlns=\"http://www.w3.org/2000/svg\" height=\"24px\"viewBox=\"0 0 24 24\"\n",
              "       width=\"24px\">\n",
              "    <path d=\"M0 0h24v24H0V0z\" fill=\"none\"/>\n",
              "    <path d=\"M18.56 5.44l.94 2.06.94-2.06 2.06-.94-2.06-.94-.94-2.06-.94 2.06-2.06.94zm-11 1L8.5 8.5l.94-2.06 2.06-.94-2.06-.94L8.5 2.5l-.94 2.06-2.06.94zm10 10l.94 2.06.94-2.06 2.06-.94-2.06-.94-.94-2.06-.94 2.06-2.06.94z\"/><path d=\"M17.41 7.96l-1.37-1.37c-.4-.4-.92-.59-1.43-.59-.52 0-1.04.2-1.43.59L10.3 9.45l-7.72 7.72c-.78.78-.78 2.05 0 2.83L4 21.41c.39.39.9.59 1.41.59.51 0 1.02-.2 1.41-.59l7.78-7.78 2.81-2.81c.8-.78.8-2.07 0-2.86zM5.41 20L4 18.59l7.72-7.72 1.47 1.35L5.41 20z\"/>\n",
              "  </svg>\n",
              "      </button>\n",
              "      \n",
              "  <style>\n",
              "    .colab-df-container {\n",
              "      display:flex;\n",
              "      flex-wrap:wrap;\n",
              "      gap: 12px;\n",
              "    }\n",
              "\n",
              "    .colab-df-convert {\n",
              "      background-color: #E8F0FE;\n",
              "      border: none;\n",
              "      border-radius: 50%;\n",
              "      cursor: pointer;\n",
              "      display: none;\n",
              "      fill: #1967D2;\n",
              "      height: 32px;\n",
              "      padding: 0 0 0 0;\n",
              "      width: 32px;\n",
              "    }\n",
              "\n",
              "    .colab-df-convert:hover {\n",
              "      background-color: #E2EBFA;\n",
              "      box-shadow: 0px 1px 2px rgba(60, 64, 67, 0.3), 0px 1px 3px 1px rgba(60, 64, 67, 0.15);\n",
              "      fill: #174EA6;\n",
              "    }\n",
              "\n",
              "    [theme=dark] .colab-df-convert {\n",
              "      background-color: #3B4455;\n",
              "      fill: #D2E3FC;\n",
              "    }\n",
              "\n",
              "    [theme=dark] .colab-df-convert:hover {\n",
              "      background-color: #434B5C;\n",
              "      box-shadow: 0px 1px 3px 1px rgba(0, 0, 0, 0.15);\n",
              "      filter: drop-shadow(0px 1px 2px rgba(0, 0, 0, 0.3));\n",
              "      fill: #FFFFFF;\n",
              "    }\n",
              "  </style>\n",
              "\n",
              "      <script>\n",
              "        const buttonEl =\n",
              "          document.querySelector('#df-392f12d9-4e97-4ff5-a16d-b8d597c579dc button.colab-df-convert');\n",
              "        buttonEl.style.display =\n",
              "          google.colab.kernel.accessAllowed ? 'block' : 'none';\n",
              "\n",
              "        async function convertToInteractive(key) {\n",
              "          const element = document.querySelector('#df-392f12d9-4e97-4ff5-a16d-b8d597c579dc');\n",
              "          const dataTable =\n",
              "            await google.colab.kernel.invokeFunction('convertToInteractive',\n",
              "                                                     [key], {});\n",
              "          if (!dataTable) return;\n",
              "\n",
              "          const docLinkHtml = 'Like what you see? Visit the ' +\n",
              "            '<a target=\"_blank\" href=https://colab.research.google.com/notebooks/data_table.ipynb>data table notebook</a>'\n",
              "            + ' to learn more about interactive tables.';\n",
              "          element.innerHTML = '';\n",
              "          dataTable['output_type'] = 'display_data';\n",
              "          await google.colab.output.renderOutput(dataTable, element);\n",
              "          const docLink = document.createElement('div');\n",
              "          docLink.innerHTML = docLinkHtml;\n",
              "          element.appendChild(docLink);\n",
              "        }\n",
              "      </script>\n",
              "    </div>\n",
              "  </div>\n",
              "  "
            ]
          },
          "metadata": {},
          "execution_count": 7
        }
      ],
      "source": [
        "dataset.describe()\n"
      ],
      "id": "b56201a7"
    },
    {
      "cell_type": "code",
      "execution_count": 8,
      "metadata": {
        "colab": {
          "base_uri": "https://localhost:8080/"
        },
        "id": "fa67edc1",
        "outputId": "ce715ba1-581a-4fcb-e074-40168763cfdd"
      },
      "outputs": [
        {
          "output_type": "stream",
          "name": "stdout",
          "text": [
            "<class 'pandas.core.frame.DataFrame'>\n",
            "RangeIndex: 303 entries, 0 to 302\n",
            "Data columns (total 14 columns):\n",
            " #   Column    Non-Null Count  Dtype  \n",
            "---  ------    --------------  -----  \n",
            " 0   age       303 non-null    int64  \n",
            " 1   sex       303 non-null    int64  \n",
            " 2   cp        303 non-null    int64  \n",
            " 3   trestbps  303 non-null    int64  \n",
            " 4   chol      303 non-null    int64  \n",
            " 5   fbs       303 non-null    int64  \n",
            " 6   restecg   303 non-null    int64  \n",
            " 7   thalach   303 non-null    int64  \n",
            " 8   exang     303 non-null    int64  \n",
            " 9   oldpeak   303 non-null    float64\n",
            " 10  slope     303 non-null    int64  \n",
            " 11  ca        303 non-null    int64  \n",
            " 12  thal      303 non-null    int64  \n",
            " 13  target    303 non-null    int64  \n",
            "dtypes: float64(1), int64(13)\n",
            "memory usage: 33.3 KB\n"
          ]
        }
      ],
      "source": [
        "dataset.info()"
      ],
      "id": "fa67edc1"
    },
    {
      "cell_type": "code",
      "execution_count": 9,
      "metadata": {
        "colab": {
          "base_uri": "https://localhost:8080/"
        },
        "id": "d7120203",
        "outputId": "71a4fb44-bb8d-4511-d876-c13689afa077"
      },
      "outputs": [
        {
          "output_type": "stream",
          "name": "stdout",
          "text": [
            "age:\t\t\tage\n",
            "sex:\t\t\t1: male, 0: female\n",
            "cp:\t\t\tchest pain type, 1: typical angina, 2: atypical angina, 3: non-anginal pain, 4: asymptomatic\n",
            "trestbps:\t\t\tresting blood pressure\n",
            "chol:\t\t\t serum cholestoral in mg/dl\n",
            "fbs:\t\t\tfasting blood sugar > 120 mg/dl\n",
            "restecg:\t\t\tresting electrocardiographic results (values 0,1,2)\n",
            "thalach:\t\t\t maximum heart rate achieved\n",
            "exang:\t\t\texercise induced angina\n",
            "oldpeak:\t\t\toldpeak = ST depression induced by exercise relative to rest\n",
            "slope:\t\t\tthe slope of the peak exercise ST segment\n",
            "ca:\t\t\tnumber of major vessels (0-3) colored by flourosopy\n",
            "thal:\t\t\tthal: 3 = normal; 6 = fixed defect; 7 = reversable defect\n"
          ]
        }
      ],
      "source": [
        "info = [\"age\",\"1: male, 0: female\",\"chest pain type, 1: typical angina, 2: atypical angina, 3: non-anginal pain, 4: asymptomatic\",\"resting blood pressure\",\" serum cholestoral in mg/dl\",\"fasting blood sugar > 120 mg/dl\",\"resting electrocardiographic results (values 0,1,2)\",\" maximum heart rate achieved\",\"exercise induced angina\",\"oldpeak = ST depression induced by exercise relative to rest\",\"the slope of the peak exercise ST segment\",\"number of major vessels (0-3) colored by flourosopy\",\"thal: 3 = normal; 6 = fixed defect; 7 = reversable defect\"]\n",
        "\n",
        "\n",
        "\n",
        "for i in range(len(info)):\n",
        "    print(dataset.columns[i]+\":\\t\\t\\t\"+info[i])"
      ],
      "id": "d7120203"
    },
    {
      "cell_type": "code",
      "execution_count": 10,
      "metadata": {
        "colab": {
          "base_uri": "https://localhost:8080/"
        },
        "id": "6a1d1470",
        "outputId": "b0a93720-80e2-4336-f342-f956149df125"
      },
      "outputs": [
        {
          "output_type": "execute_result",
          "data": {
            "text/plain": [
              "count    303.000000\n",
              "mean       0.544554\n",
              "std        0.498835\n",
              "min        0.000000\n",
              "25%        0.000000\n",
              "50%        1.000000\n",
              "75%        1.000000\n",
              "max        1.000000\n",
              "Name: target, dtype: float64"
            ]
          },
          "metadata": {},
          "execution_count": 10
        }
      ],
      "source": [
        "dataset[\"target\"].describe()\n"
      ],
      "id": "6a1d1470"
    },
    {
      "cell_type": "code",
      "execution_count": 11,
      "metadata": {
        "colab": {
          "base_uri": "https://localhost:8080/"
        },
        "id": "aa14b35a",
        "outputId": "a5c33e38-4563-4035-bdbe-bc766e829f29"
      },
      "outputs": [
        {
          "output_type": "execute_result",
          "data": {
            "text/plain": [
              "array([1, 0])"
            ]
          },
          "metadata": {},
          "execution_count": 11
        }
      ],
      "source": [
        "dataset[\"target\"].unique()\n"
      ],
      "id": "aa14b35a"
    },
    {
      "cell_type": "code",
      "execution_count": 12,
      "metadata": {
        "colab": {
          "base_uri": "https://localhost:8080/"
        },
        "id": "e59be592",
        "outputId": "bc077a54-b99d-4d0c-ac80-f994e49a6317"
      },
      "outputs": [
        {
          "output_type": "stream",
          "name": "stdout",
          "text": [
            "target      1.000000\n",
            "exang       0.436757\n",
            "cp          0.433798\n",
            "oldpeak     0.430696\n",
            "thalach     0.421741\n",
            "ca          0.391724\n",
            "slope       0.345877\n",
            "thal        0.344029\n",
            "sex         0.280937\n",
            "age         0.225439\n",
            "trestbps    0.144931\n",
            "restecg     0.137230\n",
            "chol        0.085239\n",
            "fbs         0.028046\n",
            "Name: target, dtype: float64\n"
          ]
        }
      ],
      "source": [
        "print(dataset.corr()[\"target\"].abs().sort_values(ascending=False))\n"
      ],
      "id": "e59be592"
    },
    {
      "cell_type": "code",
      "execution_count": 13,
      "metadata": {
        "colab": {
          "base_uri": "https://localhost:8080/",
          "height": 331
        },
        "id": "23df51c0",
        "outputId": "3a6a00c9-8aef-4c96-91cd-d6581130fd90"
      },
      "outputs": [
        {
          "output_type": "stream",
          "name": "stdout",
          "text": [
            "1    165\n",
            "0    138\n",
            "Name: target, dtype: int64\n"
          ]
        },
        {
          "output_type": "display_data",
          "data": {
            "text/plain": [
              "<Figure size 432x288 with 1 Axes>"
            ],
            "image/png": "[encoded data removed]"
          },
          "metadata": {
            "needs_background": "light"
          }
        }
      ],
      "source": [
        "y = dataset[\"target\"]\n",
        "\n",
        "sns.countplot(y)\n",
        "\n",
        "\n",
        "target_temp = dataset.target.value_counts()\n",
        "\n",
        "print(target_temp)"
      ],
      "id": "23df51c0"
    },
    {
      "cell_type": "code",
      "execution_count": 14,
      "metadata": {
        "colab": {
          "base_uri": "https://localhost:8080/"
        },
        "id": "ad1a929e",
        "outputId": "96964305-b95f-48f8-cd06-6641e7341692"
      },
      "outputs": [
        {
          "output_type": "stream",
          "name": "stdout",
          "text": [
            "Percentage of patience without heart problems: 45.54\n",
            "Percentage of patience with heart problems: 54.46\n"
          ]
        }
      ],
      "source": [
        "print(\"Percentage of patience without heart problems: \"+str(round(target_temp[0]*100/303,2)))\n",
        "print(\"Percentage of patience with heart problems: \"+str(round(target_temp[1]*100/303,2)))\n",
        "\n",
        "#Alternatively,\n",
        "# print(\"Percentage of patience with heart problems: \"+str(y.where(y==1).count()*100/303))\n",
        "# print(\"Percentage of patience with heart problems: \"+str(y.where(y==0).count()*100/303))\n",
        "\n",
        "# #Or,\n",
        "# countNoDisease = len(df[df.target == 0])\n",
        "# countHaveDisease = len(df[df.target == 1])"
      ],
      "id": "ad1a929e"
    },
    {
      "cell_type": "code",
      "execution_count": 15,
      "metadata": {
        "colab": {
          "base_uri": "https://localhost:8080/"
        },
        "id": "ff1cd21a",
        "outputId": "feb50fb4-e270-4539-c978-e1e2bc4e9c5a"
      },
      "outputs": [
        {
          "output_type": "execute_result",
          "data": {
            "text/plain": [
              "array([1, 0])"
            ]
          },
          "metadata": {},
          "execution_count": 15
        }
      ],
      "source": [
        "dataset[\"sex\"].unique()"
      ],
      "id": "ff1cd21a"
    },
    {
      "cell_type": "code",
      "execution_count": 16,
      "metadata": {
        "colab": {
          "base_uri": "https://localhost:8080/",
          "height": 296
        },
        "id": "15482bf6",
        "outputId": "87e3981d-1ee9-48a0-8e89-d328293d9998"
      },
      "outputs": [
        {
          "output_type": "execute_result",
          "data": {
            "text/plain": [
              "<matplotlib.axes._subplots.AxesSubplot at 0x7f46970aefd0>"
            ]
          },
          "metadata": {},
          "execution_count": 16
        },
        {
          "output_type": "display_data",
          "data": {
            "text/plain": [
              "<Figure size 432x288 with 1 Axes>"
            ],
            "image/png": "[encoded data removed]"
          },
          "metadata": {
            "needs_background": "light"
          }
        }
      ],
      "source": [
        "sns.barplot(dataset[\"sex\"],y)\n"
      ],
      "id": "15482bf6"
    },
    {
      "cell_type": "code",
      "execution_count": 17,
      "metadata": {
        "colab": {
          "base_uri": "https://localhost:8080/"
        },
        "id": "7da808f1",
        "outputId": "4361e381-d035-4666-c768-88f2d15a6d92"
      },
      "outputs": [
        {
          "output_type": "execute_result",
          "data": {
            "text/plain": [
              "array([3, 2, 1, 0])"
            ]
          },
          "metadata": {},
          "execution_count": 17
        }
      ],
      "source": [
        "dataset[\"cp\"].unique()"
      ],
      "id": "7da808f1"
    },
    {
      "cell_type": "code",
      "execution_count": 18,
      "metadata": {
        "colab": {
          "base_uri": "https://localhost:8080/",
          "height": 296
        },
        "id": "a08d79e4",
        "outputId": "665ef0cb-5fb3-4a2e-fe5b-5d7d1ee64f84"
      },
      "outputs": [
        {
          "output_type": "execute_result",
          "data": {
            "text/plain": [
              "<matplotlib.axes._subplots.AxesSubplot at 0x7f469710c450>"
            ]
          },
          "metadata": {},
          "execution_count": 18
        },
        {
          "output_type": "display_data",
          "data": {
            "text/plain": [
              "<Figure size 432x288 with 1 Axes>"
            ],
            "image/png": "[encoded data removed]"
          },
          "metadata": {
            "needs_background": "light"
          }
        }
      ],
      "source": [
        "sns.barplot(dataset[\"cp\"],y)\n"
      ],
      "id": "a08d79e4"
    },
    {
      "cell_type": "code",
      "execution_count": 19,
      "metadata": {
        "colab": {
          "base_uri": "https://localhost:8080/"
        },
        "id": "79bde144",
        "outputId": "3dfadccc-c5b5-404b-cc4f-b08612c99e82"
      },
      "outputs": [
        {
          "output_type": "execute_result",
          "data": {
            "text/plain": [
              "count    303.000000\n",
              "mean       0.148515\n",
              "std        0.356198\n",
              "min        0.000000\n",
              "25%        0.000000\n",
              "50%        0.000000\n",
              "75%        0.000000\n",
              "max        1.000000\n",
              "Name: fbs, dtype: float64"
            ]
          },
          "metadata": {},
          "execution_count": 19
        }
      ],
      "source": [
        "dataset[\"fbs\"].describe()"
      ],
      "id": "79bde144"
    },
    {
      "cell_type": "code",
      "execution_count": 20,
      "metadata": {
        "colab": {
          "base_uri": "https://localhost:8080/"
        },
        "id": "3727177f",
        "outputId": "18a65fdd-9253-4038-b618-bf912320b516"
      },
      "outputs": [
        {
          "output_type": "execute_result",
          "data": {
            "text/plain": [
              "array([1, 0])"
            ]
          },
          "metadata": {},
          "execution_count": 20
        }
      ],
      "source": [
        "dataset[\"fbs\"].unique()"
      ],
      "id": "3727177f"
    },
    {
      "cell_type": "code",
      "execution_count": 21,
      "metadata": {
        "colab": {
          "base_uri": "https://localhost:8080/",
          "height": 296
        },
        "id": "3f08b25a",
        "outputId": "8f42a7f2-6304-4308-c605-ea879092325e"
      },
      "outputs": [
        {
          "output_type": "execute_result",
          "data": {
            "text/plain": [
              "<matplotlib.axes._subplots.AxesSubplot at 0x7f4696bff0d0>"
            ]
          },
          "metadata": {},
          "execution_count": 21
        },
        {
          "output_type": "display_data",
          "data": {
            "text/plain": [
              "<Figure size 432x288 with 1 Axes>"
            ],
            "image/png": "[encoded data removed]"
          },
          "metadata": {
            "needs_background": "light"
          }
        }
      ],
      "source": [
        "sns.barplot(dataset[\"fbs\"],y)"
      ],
      "id": "3f08b25a"
    },
    {
      "cell_type": "code",
      "execution_count": 22,
      "metadata": {
        "colab": {
          "base_uri": "https://localhost:8080/"
        },
        "id": "a8a19d21",
        "outputId": "00597361-ebb5-477f-aec7-8e194364a6f0"
      },
      "outputs": [
        {
          "output_type": "execute_result",
          "data": {
            "text/plain": [
              "array([3, 2, 1, 0])"
            ]
          },
          "metadata": {},
          "execution_count": 22
        }
      ],
      "source": [
        "dataset[\"cp\"].unique()"
      ],
      "id": "a8a19d21"
    },
    {
      "cell_type": "code",
      "execution_count": 23,
      "metadata": {
        "colab": {
          "base_uri": "https://localhost:8080/",
          "height": 296
        },
        "id": "9d21c7f9",
        "outputId": "800afbd9-d10b-4275-a2e1-0251d82c3015"
      },
      "outputs": [
        {
          "output_type": "execute_result",
          "data": {
            "text/plain": [
              "<matplotlib.axes._subplots.AxesSubplot at 0x7f4696b5ec50>"
            ]
          },
          "metadata": {},
          "execution_count": 23
        },
        {
          "output_type": "display_data",
          "data": {
            "text/plain": [
              "<Figure size 432x288 with 1 Axes>"
            ],
            "image/png": "[encoded data removed]"
          },
          "metadata": {
            "needs_background": "light"
          }
        }
      ],
      "source": [
        "sns.barplot(dataset[\"cp\"],y)"
      ],
      "id": "9d21c7f9"
    },
    {
      "cell_type": "code",
      "execution_count": 24,
      "metadata": {
        "colab": {
          "base_uri": "https://localhost:8080/"
        },
        "id": "3ec92334",
        "outputId": "a5d92d7f-72f2-4e79-bc7a-1282907d46b7"
      },
      "outputs": [
        {
          "output_type": "execute_result",
          "data": {
            "text/plain": [
              "count    303.000000\n",
              "mean       0.148515\n",
              "std        0.356198\n",
              "min        0.000000\n",
              "25%        0.000000\n",
              "50%        0.000000\n",
              "75%        0.000000\n",
              "max        1.000000\n",
              "Name: fbs, dtype: float64"
            ]
          },
          "metadata": {},
          "execution_count": 24
        }
      ],
      "source": [
        "dataset[\"fbs\"].describe()"
      ],
      "id": "3ec92334"
    },
    {
      "cell_type": "code",
      "execution_count": 25,
      "metadata": {
        "colab": {
          "base_uri": "https://localhost:8080/"
        },
        "id": "dbf77b80",
        "outputId": "ce7df485-7dcf-40ea-b2ef-1f172b2b8f7d"
      },
      "outputs": [
        {
          "output_type": "execute_result",
          "data": {
            "text/plain": [
              "array([1, 0])"
            ]
          },
          "metadata": {},
          "execution_count": 25
        }
      ],
      "source": [
        "dataset[\"fbs\"].unique()\n"
      ],
      "id": "dbf77b80"
    },
    {
      "cell_type": "code",
      "execution_count": 26,
      "metadata": {
        "colab": {
          "base_uri": "https://localhost:8080/"
        },
        "id": "be0aeb19",
        "outputId": "be4dc93f-8012-4b61-9639-e48525da14b4"
      },
      "outputs": [
        {
          "output_type": "execute_result",
          "data": {
            "text/plain": [
              "array([0, 1, 2])"
            ]
          },
          "metadata": {},
          "execution_count": 26
        }
      ],
      "source": [
        "dataset[\"restecg\"].unique()\n",
        "\n"
      ],
      "id": "be0aeb19"
    },
    {
      "cell_type": "code",
      "execution_count": 27,
      "metadata": {
        "colab": {
          "base_uri": "https://localhost:8080/",
          "height": 296
        },
        "id": "96963f70",
        "outputId": "53a8375c-3a3b-46be-9c72-cd64c678e78b"
      },
      "outputs": [
        {
          "output_type": "execute_result",
          "data": {
            "text/plain": [
              "<matplotlib.axes._subplots.AxesSubplot at 0x7f4696add610>"
            ]
          },
          "metadata": {},
          "execution_count": 27
        },
        {
          "output_type": "display_data",
          "data": {
            "text/plain": [
              "<Figure size 432x288 with 1 Axes>"
            ],
            "image/png": "[encoded data removed]"
          },
          "metadata": {
            "needs_background": "light"
          }
        }
      ],
      "source": [
        "sns.barplot(dataset[\"restecg\"],y)"
      ],
      "id": "96963f70"
    },
    {
      "cell_type": "code",
      "execution_count": 28,
      "metadata": {
        "colab": {
          "base_uri": "https://localhost:8080/"
        },
        "id": "94bd89c1",
        "outputId": "a83961ad-46f3-40a5-fcf7-9ac757cfb45f"
      },
      "outputs": [
        {
          "output_type": "execute_result",
          "data": {
            "text/plain": [
              "array([0, 1])"
            ]
          },
          "metadata": {},
          "execution_count": 28
        }
      ],
      "source": [
        "dataset[\"exang\"].unique()"
      ],
      "id": "94bd89c1"
    },
    {
      "cell_type": "code",
      "execution_count": 29,
      "metadata": {
        "colab": {
          "base_uri": "https://localhost:8080/",
          "height": 296
        },
        "id": "4639a29c",
        "outputId": "d235b35b-6c76-451d-e59b-1b110b97a39c"
      },
      "outputs": [
        {
          "output_type": "execute_result",
          "data": {
            "text/plain": [
              "<matplotlib.axes._subplots.AxesSubplot at 0x7f4696ad2310>"
            ]
          },
          "metadata": {},
          "execution_count": 29
        },
        {
          "output_type": "display_data",
          "data": {
            "text/plain": [
              "<Figure size 432x288 with 1 Axes>"
            ],
            "image/png": "[encoded data removed]"
          },
          "metadata": {
            "needs_background": "light"
          }
        }
      ],
      "source": [
        "sns.barplot(dataset[\"exang\"],y)"
      ],
      "id": "4639a29c"
    },
    {
      "cell_type": "code",
      "execution_count": 30,
      "metadata": {
        "colab": {
          "base_uri": "https://localhost:8080/"
        },
        "id": "7b9ddd0f",
        "outputId": "ac32f69a-2947-43a1-cfd3-378953fe6cc3"
      },
      "outputs": [
        {
          "output_type": "execute_result",
          "data": {
            "text/plain": [
              "array([0, 2, 1])"
            ]
          },
          "metadata": {},
          "execution_count": 30
        }
      ],
      "source": [
        "dataset[\"slope\"].unique()"
      ],
      "id": "7b9ddd0f"
    },
    {
      "cell_type": "code",
      "execution_count": 31,
      "metadata": {
        "colab": {
          "base_uri": "https://localhost:8080/",
          "height": 296
        },
        "id": "12ef1202",
        "outputId": "7b765924-1ebc-4be0-e7ca-ef6f33b3cdea"
      },
      "outputs": [
        {
          "output_type": "execute_result",
          "data": {
            "text/plain": [
              "<matplotlib.axes._subplots.AxesSubplot at 0x7f4696a94510>"
            ]
          },
          "metadata": {},
          "execution_count": 31
        },
        {
          "output_type": "display_data",
          "data": {
            "text/plain": [
              "<Figure size 432x288 with 1 Axes>"
            ],
            "image/png": "[encoded data removed]"
          },
          "metadata": {
            "needs_background": "light"
          }
        }
      ],
      "source": [
        "sns.barplot(dataset[\"slope\"],y)"
      ],
      "id": "12ef1202"
    },
    {
      "cell_type": "code",
      "execution_count": 32,
      "metadata": {
        "colab": {
          "base_uri": "https://localhost:8080/"
        },
        "id": "ea4b20f2",
        "outputId": "a68b0c93-2d6f-4af1-a994-29c9e692cc1e"
      },
      "outputs": [
        {
          "output_type": "execute_result",
          "data": {
            "text/plain": [
              "array([0, 2, 1, 3, 4])"
            ]
          },
          "metadata": {},
          "execution_count": 32
        }
      ],
      "source": [
        "dataset[\"ca\"].unique()"
      ],
      "id": "ea4b20f2"
    },
    {
      "cell_type": "code",
      "execution_count": 33,
      "metadata": {
        "colab": {
          "base_uri": "https://localhost:8080/",
          "height": 296
        },
        "id": "73b4baf6",
        "outputId": "c0838a39-97c9-42e6-b173-06dcf421b594"
      },
      "outputs": [
        {
          "output_type": "execute_result",
          "data": {
            "text/plain": [
              "<matplotlib.axes._subplots.AxesSubplot at 0x7f46969b1550>"
            ]
          },
          "metadata": {},
          "execution_count": 33
        },
        {
          "output_type": "display_data",
          "data": {
            "text/plain": [
              "<Figure size 432x288 with 1 Axes>"
            ],
            "image/png": "[encoded data removed]"
          },
          "metadata": {
            "needs_background": "light"
          }
        }
      ],
      "source": [
        "sns.countplot(dataset[\"ca\"])"
      ],
      "id": "73b4baf6"
    },
    {
      "cell_type": "code",
      "execution_count": 34,
      "metadata": {
        "colab": {
          "base_uri": "https://localhost:8080/",
          "height": 296
        },
        "id": "45e513be",
        "outputId": "d89a68d3-40e4-4c24-8c56-146a417cdd99"
      },
      "outputs": [
        {
          "output_type": "execute_result",
          "data": {
            "text/plain": [
              "<matplotlib.axes._subplots.AxesSubplot at 0x7f469691d4d0>"
            ]
          },
          "metadata": {},
          "execution_count": 34
        },
        {
          "output_type": "display_data",
          "data": {
            "text/plain": [
              "<Figure size 432x288 with 1 Axes>"
            ],
            "image/png": "[encoded data removed]"
          },
          "metadata": {
            "needs_background": "light"
          }
        }
      ],
      "source": [
        "sns.barplot(dataset[\"ca\"],y)"
      ],
      "id": "45e513be"
    },
    {
      "cell_type": "code",
      "execution_count": 35,
      "metadata": {
        "colab": {
          "base_uri": "https://localhost:8080/"
        },
        "id": "4cfb3c98",
        "outputId": "66ae88a6-3578-4255-f046-dd8737c65213"
      },
      "outputs": [
        {
          "output_type": "execute_result",
          "data": {
            "text/plain": [
              "array([1, 2, 3, 0])"
            ]
          },
          "metadata": {},
          "execution_count": 35
        }
      ],
      "source": [
        "dataset[\"thal\"].unique()"
      ],
      "id": "4cfb3c98"
    },
    {
      "cell_type": "code",
      "execution_count": 36,
      "metadata": {
        "colab": {
          "base_uri": "https://localhost:8080/",
          "height": 296
        },
        "id": "d511f0aa",
        "outputId": "301a881c-52e1-4295-e76a-24dfb1bd3822"
      },
      "outputs": [
        {
          "output_type": "execute_result",
          "data": {
            "text/plain": [
              "<matplotlib.axes._subplots.AxesSubplot at 0x7f46968a4350>"
            ]
          },
          "metadata": {},
          "execution_count": 36
        },
        {
          "output_type": "display_data",
          "data": {
            "text/plain": [
              "<Figure size 432x288 with 1 Axes>"
            ],
            "image/png": "[encoded data removed]"
          },
          "metadata": {
            "needs_background": "light"
          }
        }
      ],
      "source": [
        "sns.barplot(dataset[\"thal\"],y)"
      ],
      "id": "d511f0aa"
    },
    {
      "cell_type": "code",
      "execution_count": 37,
      "metadata": {
        "colab": {
          "base_uri": "https://localhost:8080/",
          "height": 296
        },
        "id": "72f4df33",
        "outputId": "067a1ee6-07af-46aa-c5e2-a5cfe6ff2ccb"
      },
      "outputs": [
        {
          "output_type": "execute_result",
          "data": {
            "text/plain": [
              "<matplotlib.axes._subplots.AxesSubplot at 0x7f469688cbd0>"
            ]
          },
          "metadata": {},
          "execution_count": 37
        },
        {
          "output_type": "display_data",
          "data": {
            "text/plain": [
              "<Figure size 432x288 with 1 Axes>"
            ],
            "image/png": "[encoded data removed]"
          },
          "metadata": {
            "needs_background": "light"
          }
        }
      ],
      "source": [
        "sns.distplot(dataset[\"thal\"])"
      ],
      "id": "72f4df33"
    },
    {
      "cell_type": "code",
      "execution_count": 38,
      "metadata": {
        "id": "20d6891f"
      },
      "outputs": [],
      "source": [
        "from sklearn.model_selection import train_test_split\n",
        "\n",
        "predictors = dataset.drop(\"target\",axis=1)\n",
        "target = dataset[\"target\"]\n",
        "\n",
        "X_train,X_test,Y_train,Y_test = train_test_split(predictors,target,test_size=0.20,random_state=0)"
      ],
      "id": "20d6891f"
    },
    {
      "cell_type": "code",
      "execution_count": 39,
      "metadata": {
        "colab": {
          "base_uri": "https://localhost:8080/"
        },
        "id": "22c4e5dd",
        "outputId": "96a3f26a-02ba-45f8-9f6c-69a477518a89"
      },
      "outputs": [
        {
          "output_type": "execute_result",
          "data": {
            "text/plain": [
              "(242, 13)"
            ]
          },
          "metadata": {},
          "execution_count": 39
        }
      ],
      "source": [
        "X_train.shape"
      ],
      "id": "22c4e5dd"
    },
    {
      "cell_type": "code",
      "execution_count": 40,
      "metadata": {
        "colab": {
          "base_uri": "https://localhost:8080/"
        },
        "id": "c5edcb8f",
        "outputId": "71d54f12-9cb1-4f60-b37d-4b68f1850424"
      },
      "outputs": [
        {
          "output_type": "execute_result",
          "data": {
            "text/plain": [
              "(61, 13)"
            ]
          },
          "metadata": {},
          "execution_count": 40
        }
      ],
      "source": [
        "X_test.shape"
      ],
      "id": "c5edcb8f"
    },
    {
      "cell_type": "code",
      "execution_count": 41,
      "metadata": {
        "colab": {
          "base_uri": "https://localhost:8080/"
        },
        "id": "e8a9081c",
        "outputId": "db9a992d-28de-4dc2-894b-a89f26bbeab6"
      },
      "outputs": [
        {
          "output_type": "execute_result",
          "data": {
            "text/plain": [
              "(242,)"
            ]
          },
          "metadata": {},
          "execution_count": 41
        }
      ],
      "source": [
        "Y_train.shape\n"
      ],
      "id": "e8a9081c"
    },
    {
      "cell_type": "code",
      "execution_count": 42,
      "metadata": {
        "colab": {
          "base_uri": "https://localhost:8080/"
        },
        "id": "18081fb7",
        "outputId": "77e958e5-c102-48c7-d271-386d0fa1c247"
      },
      "outputs": [
        {
          "output_type": "execute_result",
          "data": {
            "text/plain": [
              "(61,)"
            ]
          },
          "metadata": {},
          "execution_count": 42
        }
      ],
      "source": [
        "Y_test.shape"
      ],
      "id": "18081fb7"
    },
    {
      "cell_type": "code",
      "execution_count": 43,
      "metadata": {
        "id": "8ebab036"
      },
      "outputs": [],
      "source": [
        "from sklearn.metrics import accuracy_score"
      ],
      "id": "8ebab036"
    },
    {
      "cell_type": "code",
      "execution_count": 44,
      "metadata": {
        "id": "5e585dc1"
      },
      "outputs": [],
      "source": [
        "from sklearn.linear_model import LogisticRegression\n",
        "\n",
        "lr = LogisticRegression()\n",
        "\n",
        "lr.fit(X_train,Y_train)\n",
        "\n",
        "Y_pred_lr = lr.predict(X_test)"
      ],
      "id": "5e585dc1"
    },
    {
      "cell_type": "code",
      "execution_count": 45,
      "metadata": {
        "colab": {
          "base_uri": "https://localhost:8080/"
        },
        "id": "876c6f1f",
        "outputId": "3011d9b6-61a6-4d1f-c21c-02cf2f1a07bc"
      },
      "outputs": [
        {
          "output_type": "execute_result",
          "data": {
            "text/plain": [
              "(61,)"
            ]
          },
          "metadata": {},
          "execution_count": 45
        }
      ],
      "source": [
        "Y_pred_lr.shape"
      ],
      "id": "876c6f1f"
    },
    {
      "cell_type": "code",
      "execution_count": 46,
      "metadata": {
        "colab": {
          "base_uri": "https://localhost:8080/"
        },
        "id": "e6c49417",
        "outputId": "72317172-abeb-4b14-a319-4e9826358939"
      },
      "outputs": [
        {
          "output_type": "stream",
          "name": "stdout",
          "text": [
            "The accuracy score achieved using Logistic Regression is: 85.25 %\n"
          ]
        }
      ],
      "source": [
        "score_lr = round(accuracy_score(Y_pred_lr,Y_test)*100,2)\n",
        "\n",
        "print(\"The accuracy score achieved using Logistic Regression is: \"+str(score_lr)+\" %\")"
      ],
      "id": "e6c49417"
    },
    {
      "cell_type": "code",
      "execution_count": 47,
      "metadata": {
        "id": "0d2582d3"
      },
      "outputs": [],
      "source": [
        "from sklearn.naive_bayes import GaussianNB\n",
        "\n",
        "nb = GaussianNB()\n",
        "\n",
        "nb.fit(X_train,Y_train)\n",
        "\n",
        "Y_pred_nb = nb.predict(X_test)"
      ],
      "id": "0d2582d3"
    },
    {
      "cell_type": "code",
      "execution_count": 48,
      "metadata": {
        "colab": {
          "base_uri": "https://localhost:8080/"
        },
        "id": "622cc7c8",
        "outputId": "961625f6-889a-4645-df6f-ede3458ac9d5"
      },
      "outputs": [
        {
          "output_type": "execute_result",
          "data": {
            "text/plain": [
              "(61,)"
            ]
          },
          "metadata": {},
          "execution_count": 48
        }
      ],
      "source": [
        "Y_pred_nb.shape"
      ],
      "id": "622cc7c8"
    },
    {
      "cell_type": "code",
      "execution_count": 49,
      "metadata": {
        "colab": {
          "base_uri": "https://localhost:8080/"
        },
        "id": "e568c405",
        "outputId": "79b2ed9b-3072-41a5-daa4-18433ca3ada1"
      },
      "outputs": [
        {
          "output_type": "stream",
          "name": "stdout",
          "text": [
            "The accuracy score achieved using Naive Bayes is: 85.25 %\n"
          ]
        }
      ],
      "source": [
        "score_nb = round(accuracy_score(Y_pred_nb,Y_test)*100,2)\n",
        "\n",
        "print(\"The accuracy score achieved using Naive Bayes is: \"+str(score_nb)+\" %\")"
      ],
      "id": "e568c405"
    },
    {
      "cell_type": "code",
      "execution_count": 50,
      "metadata": {
        "id": "7a37ddb0"
      },
      "outputs": [],
      "source": [
        "from sklearn import svm\n",
        "\n",
        "sv = svm.SVC(kernel='linear')\n",
        "\n",
        "sv.fit(X_train, Y_train)\n",
        "\n",
        "Y_pred_svm = sv.predict(X_test)"
      ],
      "id": "7a37ddb0"
    },
    {
      "cell_type": "code",
      "execution_count": 51,
      "metadata": {
        "colab": {
          "base_uri": "https://localhost:8080/"
        },
        "id": "d6bd7656",
        "outputId": "448b70bf-6ea5-4d3a-e653-71839bf30a2e"
      },
      "outputs": [
        {
          "output_type": "execute_result",
          "data": {
            "text/plain": [
              "(61,)"
            ]
          },
          "metadata": {},
          "execution_count": 51
        }
      ],
      "source": [
        "Y_pred_svm.shape"
      ],
      "id": "d6bd7656"
    },
    {
      "cell_type": "code",
      "execution_count": 52,
      "metadata": {
        "colab": {
          "base_uri": "https://localhost:8080/"
        },
        "id": "3d5f68f9",
        "outputId": "e0f48a6a-f573-4295-dce8-a1b7a1c8c668"
      },
      "outputs": [
        {
          "output_type": "stream",
          "name": "stdout",
          "text": [
            "The accuracy score achieved using Linear SVM is: 81.97 %\n"
          ]
        }
      ],
      "source": [
        "score_svm = round(accuracy_score(Y_pred_svm,Y_test)*100,2)\n",
        "\n",
        "print(\"The accuracy score achieved using Linear SVM is: \"+str(score_svm)+\" %\")"
      ],
      "id": "3d5f68f9"
    },
    {
      "cell_type": "code",
      "execution_count": 53,
      "metadata": {
        "id": "b9bad252"
      },
      "outputs": [],
      "source": [
        "from sklearn.neighbors import KNeighborsClassifier\n",
        "\n",
        "knn = KNeighborsClassifier(n_neighbors=7)\n",
        "knn.fit(X_train,Y_train)\n",
        "Y_pred_knn=knn.predict(X_test)"
      ],
      "id": "b9bad252"
    },
    {
      "cell_type": "code",
      "execution_count": 54,
      "metadata": {
        "colab": {
          "base_uri": "https://localhost:8080/"
        },
        "id": "82d09f89",
        "outputId": "46ae683b-02a4-417b-e902-3b5877408c19"
      },
      "outputs": [
        {
          "output_type": "execute_result",
          "data": {
            "text/plain": [
              "(61,)"
            ]
          },
          "metadata": {},
          "execution_count": 54
        }
      ],
      "source": [
        "Y_pred_knn.shape"
      ],
      "id": "82d09f89"
    },
    {
      "cell_type": "code",
      "execution_count": 55,
      "metadata": {
        "colab": {
          "base_uri": "https://localhost:8080/"
        },
        "id": "8aae7024",
        "outputId": "0caad4fd-c61c-4fe9-b258-3f2ce4867782"
      },
      "outputs": [
        {
          "output_type": "stream",
          "name": "stdout",
          "text": [
            "The accuracy score achieved using KNN is: 67.21 %\n"
          ]
        }
      ],
      "source": [
        "\n",
        "score_knn = round(accuracy_score(Y_pred_knn,Y_test)*100,2)\n",
        "\n",
        "print(\"The accuracy score achieved using KNN is: \"+str(score_knn)+\" %\")"
      ],
      "id": "8aae7024"
    },
    {
      "cell_type": "code",
      "execution_count": 56,
      "metadata": {
        "id": "45c860ab"
      },
      "outputs": [],
      "source": [
        "from sklearn.tree import DecisionTreeClassifier\n",
        "\n",
        "max_accuracy = 0\n",
        "\n",
        "\n",
        "for x in range(200):\n",
        "    dt = DecisionTreeClassifier(random_state=x)\n",
        "    dt.fit(X_train,Y_train)\n",
        "    Y_pred_dt = dt.predict(X_test)\n",
        "    current_accuracy = round(accuracy_score(Y_pred_dt,Y_test)*100,2)\n",
        "    if(current_accuracy>max_accuracy):\n",
        "        max_accuracy = current_accuracy\n",
        "        best_x = x\n",
        "        \n",
        "#print(max_accuracy)\n",
        "#print(best_x)\n",
        "\n",
        "\n",
        "dt = DecisionTreeClassifier(random_state=best_x)\n",
        "dt.fit(X_train,Y_train)\n",
        "Y_pred_dt = dt.predict(X_test)"
      ],
      "id": "45c860ab"
    },
    {
      "cell_type": "code",
      "execution_count": 57,
      "metadata": {
        "colab": {
          "base_uri": "https://localhost:8080/"
        },
        "id": "02e43233",
        "outputId": "c5c673b2-4659-48a2-9978-18dbf7fb14c9"
      },
      "outputs": [
        {
          "output_type": "stream",
          "name": "stdout",
          "text": [
            "(61,)\n"
          ]
        }
      ],
      "source": [
        "print(Y_pred_dt.shape)"
      ],
      "id": "02e43233"
    },
    {
      "cell_type": "code",
      "execution_count": 58,
      "metadata": {
        "colab": {
          "base_uri": "https://localhost:8080/"
        },
        "id": "4ebb0254",
        "outputId": "686d82d9-82c8-4bd9-9eb6-6e30322e79f5"
      },
      "outputs": [
        {
          "output_type": "stream",
          "name": "stdout",
          "text": [
            "The accuracy score achieved using Decision Tree is: 81.97 %\n"
          ]
        }
      ],
      "source": [
        "score_dt = round(accuracy_score(Y_pred_dt,Y_test)*100,2)\n",
        "\n",
        "print(\"The accuracy score achieved using Decision Tree is: \"+str(score_dt)+\" %\")\n"
      ],
      "id": "4ebb0254"
    },
    {
      "cell_type": "code",
      "execution_count": 59,
      "metadata": {
        "id": "3d9ca6fd"
      },
      "outputs": [],
      "source": [
        "from sklearn.ensemble import RandomForestClassifier\n",
        "\n",
        "max_accuracy = 0\n",
        "\n",
        "\n",
        "for x in range(2000):\n",
        "    rf = RandomForestClassifier(random_state=x)\n",
        "    rf.fit(X_train,Y_train)\n",
        "    Y_pred_rf = rf.predict(X_test)\n",
        "    current_accuracy = round(accuracy_score(Y_pred_rf,Y_test)*100,2)\n",
        "    if(current_accuracy>max_accuracy):\n",
        "        max_accuracy = current_accuracy\n",
        "        best_x = x\n",
        "        \n",
        "#print(max_accuracy)\n",
        "#print(best_x)\n",
        "\n",
        "rf = RandomForestClassifier(random_state=best_x)\n",
        "rf.fit(X_train,Y_train)\n",
        "Y_pred_rf = rf.predict(X_test)\n"
      ],
      "id": "3d9ca6fd"
    },
    {
      "cell_type": "code",
      "execution_count": 60,
      "metadata": {
        "colab": {
          "base_uri": "https://localhost:8080/"
        },
        "id": "03fde65f",
        "outputId": "8a1c637d-b0ac-4866-da69-10081570b497"
      },
      "outputs": [
        {
          "output_type": "execute_result",
          "data": {
            "text/plain": [
              "(61,)"
            ]
          },
          "metadata": {},
          "execution_count": 60
        }
      ],
      "source": [
        "Y_pred_rf.shape"
      ],
      "id": "03fde65f"
    },
    {
      "cell_type": "code",
      "execution_count": 61,
      "metadata": {
        "colab": {
          "base_uri": "https://localhost:8080/"
        },
        "id": "b5bc9198",
        "outputId": "ef68b4cd-b6bc-4258-b4ca-37eb02cfd0ab"
      },
      "outputs": [
        {
          "output_type": "stream",
          "name": "stdout",
          "text": [
            "The accuracy score achieved using Decision Tree is: 90.16 %\n"
          ]
        }
      ],
      "source": [
        "score_rf = round(accuracy_score(Y_pred_rf,Y_test)*100,2)\n",
        "\n",
        "print(\"The accuracy score achieved using Decision Tree is: \"+str(score_rf)+\" %\")"
      ],
      "id": "b5bc9198"
    },
    {
      "cell_type": "code",
      "execution_count": 62,
      "metadata": {
        "id": "2c804027"
      },
      "outputs": [],
      "source": [
        "import xgboost as xgb\n",
        "\n",
        "xgb_model = xgb.XGBClassifier(objective=\"binary:logistic\", random_state=42)\n",
        "xgb_model.fit(X_train, Y_train)\n",
        "\n",
        "Y_pred_xgb = xgb_model.predict(X_test)"
      ],
      "id": "2c804027"
    },
    {
      "cell_type": "code",
      "execution_count": 63,
      "metadata": {
        "colab": {
          "base_uri": "https://localhost:8080/"
        },
        "id": "f0045ec5",
        "outputId": "9275a129-674f-4603-eedd-a0ceab3b41c0"
      },
      "outputs": [
        {
          "output_type": "execute_result",
          "data": {
            "text/plain": [
              "(61,)"
            ]
          },
          "metadata": {},
          "execution_count": 63
        }
      ],
      "source": [
        "Y_pred_xgb.shape"
      ],
      "id": "f0045ec5"
    },
    {
      "cell_type": "code",
      "execution_count": 64,
      "metadata": {
        "colab": {
          "base_uri": "https://localhost:8080/"
        },
        "id": "f0a5cc42",
        "outputId": "f539ac1f-19f9-4b3b-d063-18fc9362f7d8"
      },
      "outputs": [
        {
          "output_type": "stream",
          "name": "stdout",
          "text": [
            "The accuracy score achieved using XGBoost is: 85.25 %\n"
          ]
        }
      ],
      "source": [
        "score_xgb = round(accuracy_score(Y_pred_xgb,Y_test)*100,2)\n",
        "\n",
        "print(\"The accuracy score achieved using XGBoost is: \"+str(score_xgb)+\" %\")"
      ],
      "id": "f0a5cc42"
    },
    {
      "cell_type": "code",
      "execution_count": 65,
      "metadata": {
        "id": "87eccbbe"
      },
      "outputs": [],
      "source": [
        "import tensorflow as tf\n",
        "from tensorflow.keras.models import Sequential\n",
        "from keras.layers import Dense"
      ],
      "id": "87eccbbe"
    },
    {
      "cell_type": "code",
      "execution_count": 66,
      "metadata": {
        "id": "d69f7929"
      },
      "outputs": [],
      "source": [
        "# https://stats.stackexchange.com/a/136542 helped a lot in avoiding overfitting\n",
        "\n",
        "model = Sequential()\n",
        "model.add(Dense(11,activation='relu',input_dim=13))\n",
        "model.add(Dense(1,activation='sigmoid'))\n",
        "\n",
        "model.compile(loss='binary_crossentropy',optimizer='adam',metrics=['accuracy'])"
      ],
      "id": "d69f7929"
    },
    {
      "cell_type": "code",
      "execution_count": 67,
      "metadata": {
        "colab": {
          "base_uri": "https://localhost:8080/"
        },
        "id": "2036381e",
        "outputId": "b3348a3c-16c2-4148-8756-182014d8976e"
      },
      "outputs": [
        {
          "output_type": "stream",
          "name": "stdout",
          "text": [
            "Epoch 1/300\n",
            "8/8 [==============================] - 1s 3ms/step - loss: 11.8427 - accuracy: 0.4050\n",
            "Epoch 2/300\n",
            "8/8 [==============================] - 0s 3ms/step - loss: 5.8409 - accuracy: 0.4050\n",
            "Epoch 3/300\n",
            "8/8 [==============================] - 0s 3ms/step - loss: 4.8343 - accuracy: 0.4959\n",
            "Epoch 4/300\n",
            "8/8 [==============================] - 0s 2ms/step - loss: 4.4064 - accuracy: 0.5041\n",
            "Epoch 5/300\n",
            "8/8 [==============================] - 0s 3ms/step - loss: 3.5890 - accuracy: 0.4587\n",
            "Epoch 6/300\n",
            "8/8 [==============================] - 0s 3ms/step - loss: 3.1515 - accuracy: 0.4959\n",
            "Epoch 7/300\n",
            "8/8 [==============================] - 0s 3ms/step - loss: 2.7968 - accuracy: 0.5165\n",
            "Epoch 8/300\n",
            "8/8 [==============================] - 0s 3ms/step - loss: 2.4672 - accuracy: 0.5289\n",
            "Epoch 9/300\n",
            "8/8 [==============================] - 0s 3ms/step - loss: 2.2534 - accuracy: 0.5289\n",
            "Epoch 10/300\n",
            "8/8 [==============================] - 0s 3ms/step - loss: 2.0453 - accuracy: 0.5455\n",
            "Epoch 11/300\n",
            "8/8 [==============================] - 0s 3ms/step - loss: 1.9349 - accuracy: 0.5661\n",
            "Epoch 12/300\n",
            "8/8 [==============================] - 0s 2ms/step - loss: 1.7886 - accuracy: 0.5785\n",
            "Epoch 13/300\n",
            "8/8 [==============================] - 0s 3ms/step - loss: 1.7076 - accuracy: 0.6074\n",
            "Epoch 14/300\n",
            "8/8 [==============================] - 0s 3ms/step - loss: 1.6453 - accuracy: 0.6240\n",
            "Epoch 15/300\n",
            "8/8 [==============================] - 0s 3ms/step - loss: 1.5727 - accuracy: 0.6157\n",
            "Epoch 16/300\n",
            "8/8 [==============================] - 0s 4ms/step - loss: 1.5087 - accuracy: 0.6322\n",
            "Epoch 17/300\n",
            "8/8 [==============================] - 0s 3ms/step - loss: 1.4866 - accuracy: 0.6033\n",
            "Epoch 18/300\n",
            "8/8 [==============================] - 0s 3ms/step - loss: 1.4126 - accuracy: 0.6446\n",
            "Epoch 19/300\n",
            "8/8 [==============================] - 0s 3ms/step - loss: 1.3862 - accuracy: 0.6488\n",
            "Epoch 20/300\n",
            "8/8 [==============================] - 0s 3ms/step - loss: 1.3362 - accuracy: 0.6405\n",
            "Epoch 21/300\n",
            "8/8 [==============================] - 0s 3ms/step - loss: 1.2862 - accuracy: 0.6529\n",
            "Epoch 22/300\n",
            "8/8 [==============================] - 0s 3ms/step - loss: 1.2586 - accuracy: 0.6570\n",
            "Epoch 23/300\n",
            "8/8 [==============================] - 0s 3ms/step - loss: 1.2017 - accuracy: 0.6653\n",
            "Epoch 24/300\n",
            "8/8 [==============================] - 0s 3ms/step - loss: 1.1579 - accuracy: 0.6694\n",
            "Epoch 25/300\n",
            "8/8 [==============================] - 0s 3ms/step - loss: 1.1320 - accuracy: 0.6612\n",
            "Epoch 26/300\n",
            "8/8 [==============================] - 0s 3ms/step - loss: 1.1573 - accuracy: 0.6570\n",
            "Epoch 27/300\n",
            "8/8 [==============================] - 0s 3ms/step - loss: 1.1366 - accuracy: 0.6446\n",
            "Epoch 28/300\n",
            "8/8 [==============================] - 0s 3ms/step - loss: 1.0430 - accuracy: 0.6612\n",
            "Epoch 29/300\n",
            "8/8 [==============================] - 0s 3ms/step - loss: 1.0436 - accuracy: 0.6818\n",
            "Epoch 30/300\n",
            "8/8 [==============================] - 0s 3ms/step - loss: 1.0012 - accuracy: 0.6570\n",
            "Epoch 31/300\n",
            "8/8 [==============================] - 0s 3ms/step - loss: 0.9676 - accuracy: 0.6777\n",
            "Epoch 32/300\n",
            "8/8 [==============================] - 0s 3ms/step - loss: 0.9942 - accuracy: 0.6653\n",
            "Epoch 33/300\n",
            "8/8 [==============================] - 0s 3ms/step - loss: 0.9354 - accuracy: 0.6901\n",
            "Epoch 34/300\n",
            "8/8 [==============================] - 0s 3ms/step - loss: 0.8696 - accuracy: 0.6901\n",
            "Epoch 35/300\n",
            "8/8 [==============================] - 0s 3ms/step - loss: 0.8380 - accuracy: 0.7107\n",
            "Epoch 36/300\n",
            "8/8 [==============================] - 0s 3ms/step - loss: 0.8147 - accuracy: 0.7190\n",
            "Epoch 37/300\n",
            "8/8 [==============================] - 0s 3ms/step - loss: 0.8011 - accuracy: 0.7190\n",
            "Epoch 38/300\n",
            "8/8 [==============================] - 0s 3ms/step - loss: 0.7778 - accuracy: 0.7397\n",
            "Epoch 39/300\n",
            "8/8 [==============================] - 0s 4ms/step - loss: 0.7512 - accuracy: 0.7149\n",
            "Epoch 40/300\n",
            "8/8 [==============================] - 0s 3ms/step - loss: 0.7352 - accuracy: 0.7438\n",
            "Epoch 41/300\n",
            "8/8 [==============================] - 0s 2ms/step - loss: 0.7121 - accuracy: 0.7355\n",
            "Epoch 42/300\n",
            "8/8 [==============================] - 0s 3ms/step - loss: 0.6859 - accuracy: 0.7479\n",
            "Epoch 43/300\n",
            "8/8 [==============================] - 0s 2ms/step - loss: 0.7686 - accuracy: 0.6983\n",
            "Epoch 44/300\n",
            "8/8 [==============================] - 0s 3ms/step - loss: 0.6726 - accuracy: 0.7397\n",
            "Epoch 45/300\n",
            "8/8 [==============================] - 0s 3ms/step - loss: 0.6491 - accuracy: 0.7479\n",
            "Epoch 46/300\n",
            "8/8 [==============================] - 0s 3ms/step - loss: 0.6234 - accuracy: 0.7521\n",
            "Epoch 47/300\n",
            "8/8 [==============================] - 0s 3ms/step - loss: 0.6185 - accuracy: 0.7686\n",
            "Epoch 48/300\n",
            "8/8 [==============================] - 0s 3ms/step - loss: 0.6128 - accuracy: 0.7397\n",
            "Epoch 49/300\n",
            "8/8 [==============================] - 0s 3ms/step - loss: 0.6031 - accuracy: 0.7562\n",
            "Epoch 50/300\n",
            "8/8 [==============================] - 0s 3ms/step - loss: 0.5723 - accuracy: 0.7603\n",
            "Epoch 51/300\n",
            "8/8 [==============================] - 0s 3ms/step - loss: 0.5740 - accuracy: 0.7521\n",
            "Epoch 52/300\n",
            "8/8 [==============================] - 0s 3ms/step - loss: 0.5606 - accuracy: 0.7686\n",
            "Epoch 53/300\n",
            "8/8 [==============================] - 0s 3ms/step - loss: 0.6087 - accuracy: 0.7231\n",
            "Epoch 54/300\n",
            "8/8 [==============================] - 0s 3ms/step - loss: 0.5566 - accuracy: 0.7562\n",
            "Epoch 55/300\n",
            "8/8 [==============================] - 0s 3ms/step - loss: 0.5609 - accuracy: 0.7562\n",
            "Epoch 56/300\n",
            "8/8 [==============================] - 0s 3ms/step - loss: 0.5383 - accuracy: 0.7397\n",
            "Epoch 57/300\n",
            "8/8 [==============================] - 0s 3ms/step - loss: 0.5019 - accuracy: 0.7851\n",
            "Epoch 58/300\n",
            "8/8 [==============================] - 0s 3ms/step - loss: 0.4981 - accuracy: 0.7810\n",
            "Epoch 59/300\n",
            "8/8 [==============================] - 0s 3ms/step - loss: 0.5023 - accuracy: 0.7645\n",
            "Epoch 60/300\n",
            "8/8 [==============================] - 0s 3ms/step - loss: 0.4715 - accuracy: 0.7769\n",
            "Epoch 61/300\n",
            "8/8 [==============================] - 0s 3ms/step - loss: 0.4687 - accuracy: 0.7851\n",
            "Epoch 62/300\n",
            "8/8 [==============================] - 0s 3ms/step - loss: 0.4706 - accuracy: 0.7686\n",
            "Epoch 63/300\n",
            "8/8 [==============================] - 0s 3ms/step - loss: 0.4852 - accuracy: 0.7893\n",
            "Epoch 64/300\n",
            "8/8 [==============================] - 0s 4ms/step - loss: 0.4685 - accuracy: 0.7975\n",
            "Epoch 65/300\n",
            "8/8 [==============================] - 0s 3ms/step - loss: 0.4456 - accuracy: 0.7686\n",
            "Epoch 66/300\n",
            "8/8 [==============================] - 0s 3ms/step - loss: 0.4428 - accuracy: 0.8058\n",
            "Epoch 67/300\n",
            "8/8 [==============================] - 0s 3ms/step - loss: 0.4590 - accuracy: 0.7975\n",
            "Epoch 68/300\n",
            "8/8 [==============================] - 0s 3ms/step - loss: 0.4388 - accuracy: 0.7893\n",
            "Epoch 69/300\n",
            "8/8 [==============================] - 0s 3ms/step - loss: 0.4588 - accuracy: 0.7851\n",
            "Epoch 70/300\n",
            "8/8 [==============================] - 0s 3ms/step - loss: 0.4470 - accuracy: 0.7975\n",
            "Epoch 71/300\n",
            "8/8 [==============================] - 0s 4ms/step - loss: 0.4226 - accuracy: 0.8099\n",
            "Epoch 72/300\n",
            "8/8 [==============================] - 0s 3ms/step - loss: 0.4308 - accuracy: 0.7893\n",
            "Epoch 73/300\n",
            "8/8 [==============================] - 0s 4ms/step - loss: 0.4212 - accuracy: 0.7975\n",
            "Epoch 74/300\n",
            "8/8 [==============================] - 0s 3ms/step - loss: 0.4231 - accuracy: 0.8140\n",
            "Epoch 75/300\n",
            "8/8 [==============================] - 0s 3ms/step - loss: 0.4266 - accuracy: 0.7727\n",
            "Epoch 76/300\n",
            "8/8 [==============================] - 0s 3ms/step - loss: 0.4731 - accuracy: 0.7975\n",
            "Epoch 77/300\n",
            "8/8 [==============================] - 0s 3ms/step - loss: 0.4110 - accuracy: 0.8264\n",
            "Epoch 78/300\n",
            "8/8 [==============================] - 0s 3ms/step - loss: 0.4174 - accuracy: 0.8099\n",
            "Epoch 79/300\n",
            "8/8 [==============================] - 0s 3ms/step - loss: 0.4404 - accuracy: 0.8223\n",
            "Epoch 80/300\n",
            "8/8 [==============================] - 0s 3ms/step - loss: 0.4236 - accuracy: 0.7975\n",
            "Epoch 81/300\n",
            "8/8 [==============================] - 0s 3ms/step - loss: 0.4478 - accuracy: 0.7975\n",
            "Epoch 82/300\n",
            "8/8 [==============================] - 0s 3ms/step - loss: 0.4270 - accuracy: 0.7975\n",
            "Epoch 83/300\n",
            "8/8 [==============================] - 0s 3ms/step - loss: 0.4353 - accuracy: 0.7810\n",
            "Epoch 84/300\n",
            "8/8 [==============================] - 0s 3ms/step - loss: 0.4207 - accuracy: 0.8058\n",
            "Epoch 85/300\n",
            "8/8 [==============================] - 0s 3ms/step - loss: 0.4105 - accuracy: 0.8182\n",
            "Epoch 86/300\n",
            "8/8 [==============================] - 0s 3ms/step - loss: 0.4206 - accuracy: 0.7934\n",
            "Epoch 87/300\n",
            "8/8 [==============================] - 0s 3ms/step - loss: 0.4083 - accuracy: 0.8223\n",
            "Epoch 88/300\n",
            "8/8 [==============================] - 0s 3ms/step - loss: 0.4249 - accuracy: 0.8017\n",
            "Epoch 89/300\n",
            "8/8 [==============================] - 0s 3ms/step - loss: 0.4175 - accuracy: 0.8058\n",
            "Epoch 90/300\n",
            "8/8 [==============================] - 0s 3ms/step - loss: 0.4006 - accuracy: 0.8099\n",
            "Epoch 91/300\n",
            "8/8 [==============================] - 0s 3ms/step - loss: 0.4170 - accuracy: 0.8099\n",
            "Epoch 92/300\n",
            "8/8 [==============================] - 0s 3ms/step - loss: 0.3978 - accuracy: 0.8264\n",
            "Epoch 93/300\n",
            "8/8 [==============================] - 0s 3ms/step - loss: 0.4200 - accuracy: 0.8017\n",
            "Epoch 94/300\n",
            "8/8 [==============================] - 0s 3ms/step - loss: 0.3996 - accuracy: 0.8264\n",
            "Epoch 95/300\n",
            "8/8 [==============================] - 0s 3ms/step - loss: 0.3975 - accuracy: 0.8388\n",
            "Epoch 96/300\n",
            "8/8 [==============================] - 0s 3ms/step - loss: 0.3962 - accuracy: 0.8347\n",
            "Epoch 97/300\n",
            "8/8 [==============================] - 0s 3ms/step - loss: 0.4011 - accuracy: 0.8264\n",
            "Epoch 98/300\n",
            "8/8 [==============================] - 0s 3ms/step - loss: 0.4181 - accuracy: 0.8099\n",
            "Epoch 99/300\n",
            "8/8 [==============================] - 0s 3ms/step - loss: 0.3929 - accuracy: 0.8347\n",
            "Epoch 100/300\n",
            "8/8 [==============================] - 0s 2ms/step - loss: 0.3968 - accuracy: 0.8347\n",
            "Epoch 101/300\n",
            "8/8 [==============================] - 0s 3ms/step - loss: 0.4055 - accuracy: 0.8430\n",
            "Epoch 102/300\n",
            "8/8 [==============================] - 0s 3ms/step - loss: 0.4053 - accuracy: 0.8223\n",
            "Epoch 103/300\n",
            "8/8 [==============================] - 0s 4ms/step - loss: 0.3942 - accuracy: 0.8223\n",
            "Epoch 104/300\n",
            "8/8 [==============================] - 0s 3ms/step - loss: 0.3962 - accuracy: 0.8264\n",
            "Epoch 105/300\n",
            "8/8 [==============================] - 0s 3ms/step - loss: 0.4013 - accuracy: 0.8430\n",
            "Epoch 106/300\n",
            "8/8 [==============================] - 0s 3ms/step - loss: 0.3857 - accuracy: 0.8388\n",
            "Epoch 107/300\n",
            "8/8 [==============================] - 0s 3ms/step - loss: 0.3878 - accuracy: 0.8430\n",
            "Epoch 108/300\n",
            "8/8 [==============================] - 0s 3ms/step - loss: 0.3996 - accuracy: 0.8347\n",
            "Epoch 109/300\n",
            "8/8 [==============================] - 0s 3ms/step - loss: 0.4301 - accuracy: 0.7934\n",
            "Epoch 110/300\n",
            "8/8 [==============================] - 0s 3ms/step - loss: 0.4464 - accuracy: 0.7893\n",
            "Epoch 111/300\n",
            "8/8 [==============================] - 0s 3ms/step - loss: 0.4296 - accuracy: 0.8223\n",
            "Epoch 112/300\n",
            "8/8 [==============================] - 0s 3ms/step - loss: 0.3991 - accuracy: 0.8388\n",
            "Epoch 113/300\n",
            "8/8 [==============================] - 0s 3ms/step - loss: 0.3841 - accuracy: 0.8471\n",
            "Epoch 114/300\n",
            "8/8 [==============================] - 0s 3ms/step - loss: 0.3879 - accuracy: 0.8388\n",
            "Epoch 115/300\n",
            "8/8 [==============================] - 0s 3ms/step - loss: 0.3870 - accuracy: 0.8306\n",
            "Epoch 116/300\n",
            "8/8 [==============================] - 0s 3ms/step - loss: 0.3820 - accuracy: 0.8347\n",
            "Epoch 117/300\n",
            "8/8 [==============================] - 0s 3ms/step - loss: 0.3794 - accuracy: 0.8471\n",
            "Epoch 118/300\n",
            "8/8 [==============================] - 0s 3ms/step - loss: 0.3931 - accuracy: 0.8388\n",
            "Epoch 119/300\n",
            "8/8 [==============================] - 0s 3ms/step - loss: 0.3874 - accuracy: 0.8430\n",
            "Epoch 120/300\n",
            "8/8 [==============================] - 0s 3ms/step - loss: 0.3853 - accuracy: 0.8430\n",
            "Epoch 121/300\n",
            "8/8 [==============================] - 0s 3ms/step - loss: 0.3979 - accuracy: 0.8306\n",
            "Epoch 122/300\n",
            "8/8 [==============================] - 0s 3ms/step - loss: 0.3864 - accuracy: 0.8512\n",
            "Epoch 123/300\n",
            "8/8 [==============================] - 0s 3ms/step - loss: 0.3872 - accuracy: 0.8430\n",
            "Epoch 124/300\n",
            "8/8 [==============================] - 0s 4ms/step - loss: 0.3856 - accuracy: 0.8306\n",
            "Epoch 125/300\n",
            "8/8 [==============================] - 0s 3ms/step - loss: 0.4403 - accuracy: 0.7934\n",
            "Epoch 126/300\n",
            "8/8 [==============================] - 0s 3ms/step - loss: 0.4508 - accuracy: 0.8099\n",
            "Epoch 127/300\n",
            "8/8 [==============================] - 0s 3ms/step - loss: 0.4869 - accuracy: 0.7810\n",
            "Epoch 128/300\n",
            "8/8 [==============================] - 0s 3ms/step - loss: 0.4161 - accuracy: 0.8140\n",
            "Epoch 129/300\n",
            "8/8 [==============================] - 0s 3ms/step - loss: 0.4323 - accuracy: 0.8099\n",
            "Epoch 130/300\n",
            "8/8 [==============================] - 0s 3ms/step - loss: 0.4046 - accuracy: 0.8388\n",
            "Epoch 131/300\n",
            "8/8 [==============================] - 0s 3ms/step - loss: 0.3986 - accuracy: 0.8182\n",
            "Epoch 132/300\n",
            "8/8 [==============================] - 0s 5ms/step - loss: 0.3851 - accuracy: 0.8430\n",
            "Epoch 133/300\n",
            "8/8 [==============================] - 0s 3ms/step - loss: 0.3755 - accuracy: 0.8347\n",
            "Epoch 134/300\n",
            "8/8 [==============================] - 0s 3ms/step - loss: 0.3909 - accuracy: 0.8388\n",
            "Epoch 135/300\n",
            "8/8 [==============================] - 0s 4ms/step - loss: 0.3741 - accuracy: 0.8512\n",
            "Epoch 136/300\n",
            "8/8 [==============================] - 0s 3ms/step - loss: 0.3773 - accuracy: 0.8430\n",
            "Epoch 137/300\n",
            "8/8 [==============================] - 0s 3ms/step - loss: 0.3853 - accuracy: 0.8388\n",
            "Epoch 138/300\n",
            "8/8 [==============================] - 0s 3ms/step - loss: 0.3753 - accuracy: 0.8471\n",
            "Epoch 139/300\n",
            "8/8 [==============================] - 0s 3ms/step - loss: 0.3785 - accuracy: 0.8347\n",
            "Epoch 140/300\n",
            "8/8 [==============================] - 0s 3ms/step - loss: 0.3748 - accuracy: 0.8430\n",
            "Epoch 141/300\n",
            "8/8 [==============================] - 0s 3ms/step - loss: 0.3962 - accuracy: 0.8347\n",
            "Epoch 142/300\n",
            "8/8 [==============================] - 0s 3ms/step - loss: 0.4034 - accuracy: 0.8306\n",
            "Epoch 143/300\n",
            "8/8 [==============================] - 0s 3ms/step - loss: 0.3952 - accuracy: 0.8264\n",
            "Epoch 144/300\n",
            "8/8 [==============================] - 0s 3ms/step - loss: 0.3854 - accuracy: 0.8388\n",
            "Epoch 145/300\n",
            "8/8 [==============================] - 0s 3ms/step - loss: 0.3708 - accuracy: 0.8430\n",
            "Epoch 146/300\n",
            "8/8 [==============================] - 0s 3ms/step - loss: 0.3730 - accuracy: 0.8306\n",
            "Epoch 147/300\n",
            "8/8 [==============================] - 0s 3ms/step - loss: 0.3800 - accuracy: 0.8347\n",
            "Epoch 148/300\n",
            "8/8 [==============================] - 0s 3ms/step - loss: 0.3677 - accuracy: 0.8471\n",
            "Epoch 149/300\n",
            "8/8 [==============================] - 0s 3ms/step - loss: 0.3752 - accuracy: 0.8471\n",
            "Epoch 150/300\n",
            "8/8 [==============================] - 0s 3ms/step - loss: 0.3828 - accuracy: 0.8306\n",
            "Epoch 151/300\n",
            "8/8 [==============================] - 0s 3ms/step - loss: 0.4734 - accuracy: 0.7727\n",
            "Epoch 152/300\n",
            "8/8 [==============================] - 0s 3ms/step - loss: 0.3663 - accuracy: 0.8430\n",
            "Epoch 153/300\n",
            "8/8 [==============================] - 0s 3ms/step - loss: 0.4066 - accuracy: 0.8264\n",
            "Epoch 154/300\n",
            "8/8 [==============================] - 0s 3ms/step - loss: 0.3745 - accuracy: 0.8099\n",
            "Epoch 155/300\n",
            "8/8 [==============================] - 0s 3ms/step - loss: 0.4052 - accuracy: 0.8471\n",
            "Epoch 156/300\n",
            "8/8 [==============================] - 0s 3ms/step - loss: 0.3965 - accuracy: 0.8140\n",
            "Epoch 157/300\n",
            "8/8 [==============================] - 0s 3ms/step - loss: 0.3730 - accuracy: 0.8471\n",
            "Epoch 158/300\n",
            "8/8 [==============================] - 0s 3ms/step - loss: 0.4006 - accuracy: 0.8140\n",
            "Epoch 159/300\n",
            "8/8 [==============================] - 0s 3ms/step - loss: 0.3772 - accuracy: 0.8471\n",
            "Epoch 160/300\n",
            "8/8 [==============================] - 0s 3ms/step - loss: 0.3764 - accuracy: 0.8388\n",
            "Epoch 161/300\n",
            "8/8 [==============================] - 0s 3ms/step - loss: 0.3747 - accuracy: 0.8306\n",
            "Epoch 162/300\n",
            "8/8 [==============================] - 0s 3ms/step - loss: 0.3869 - accuracy: 0.8223\n",
            "Epoch 163/300\n",
            "8/8 [==============================] - 0s 3ms/step - loss: 0.3803 - accuracy: 0.8430\n",
            "Epoch 164/300\n",
            "8/8 [==============================] - 0s 3ms/step - loss: 0.3616 - accuracy: 0.8554\n",
            "Epoch 165/300\n",
            "8/8 [==============================] - 0s 3ms/step - loss: 0.3956 - accuracy: 0.8264\n",
            "Epoch 166/300\n",
            "8/8 [==============================] - 0s 3ms/step - loss: 0.3819 - accuracy: 0.8430\n",
            "Epoch 167/300\n",
            "8/8 [==============================] - 0s 6ms/step - loss: 0.3742 - accuracy: 0.8430\n",
            "Epoch 168/300\n",
            "8/8 [==============================] - 0s 3ms/step - loss: 0.3680 - accuracy: 0.8430\n",
            "Epoch 169/300\n",
            "8/8 [==============================] - 0s 3ms/step - loss: 0.3727 - accuracy: 0.8388\n",
            "Epoch 170/300\n",
            "8/8 [==============================] - 0s 3ms/step - loss: 0.3751 - accuracy: 0.8264\n",
            "Epoch 171/300\n",
            "8/8 [==============================] - 0s 3ms/step - loss: 0.3726 - accuracy: 0.8347\n",
            "Epoch 172/300\n",
            "8/8 [==============================] - 0s 3ms/step - loss: 0.3645 - accuracy: 0.8388\n",
            "Epoch 173/300\n",
            "8/8 [==============================] - 0s 3ms/step - loss: 0.3685 - accuracy: 0.8471\n",
            "Epoch 174/300\n",
            "8/8 [==============================] - 0s 3ms/step - loss: 0.3723 - accuracy: 0.8471\n",
            "Epoch 175/300\n",
            "8/8 [==============================] - 0s 3ms/step - loss: 0.3707 - accuracy: 0.8388\n",
            "Epoch 176/300\n",
            "8/8 [==============================] - 0s 3ms/step - loss: 0.3685 - accuracy: 0.8347\n",
            "Epoch 177/300\n",
            "8/8 [==============================] - 0s 3ms/step - loss: 0.3730 - accuracy: 0.8306\n",
            "Epoch 178/300\n",
            "8/8 [==============================] - 0s 4ms/step - loss: 0.3806 - accuracy: 0.8388\n",
            "Epoch 179/300\n",
            "8/8 [==============================] - 0s 3ms/step - loss: 0.3847 - accuracy: 0.8430\n",
            "Epoch 180/300\n",
            "8/8 [==============================] - 0s 3ms/step - loss: 0.3727 - accuracy: 0.8388\n",
            "Epoch 181/300\n",
            "8/8 [==============================] - 0s 3ms/step - loss: 0.3863 - accuracy: 0.8430\n",
            "Epoch 182/300\n",
            "8/8 [==============================] - 0s 3ms/step - loss: 0.3732 - accuracy: 0.8182\n",
            "Epoch 183/300\n",
            "8/8 [==============================] - 0s 3ms/step - loss: 0.3662 - accuracy: 0.8512\n",
            "Epoch 184/300\n",
            "8/8 [==============================] - 0s 3ms/step - loss: 0.3633 - accuracy: 0.8388\n",
            "Epoch 185/300\n",
            "8/8 [==============================] - 0s 3ms/step - loss: 0.3762 - accuracy: 0.8182\n",
            "Epoch 186/300\n",
            "8/8 [==============================] - 0s 3ms/step - loss: 0.3847 - accuracy: 0.8347\n",
            "Epoch 187/300\n",
            "8/8 [==============================] - 0s 3ms/step - loss: 0.3661 - accuracy: 0.8306\n",
            "Epoch 188/300\n",
            "8/8 [==============================] - 0s 3ms/step - loss: 0.3621 - accuracy: 0.8388\n",
            "Epoch 189/300\n",
            "8/8 [==============================] - 0s 3ms/step - loss: 0.3880 - accuracy: 0.8347\n",
            "Epoch 190/300\n",
            "8/8 [==============================] - 0s 3ms/step - loss: 0.3733 - accuracy: 0.8430\n",
            "Epoch 191/300\n",
            "8/8 [==============================] - 0s 3ms/step - loss: 0.3634 - accuracy: 0.8430\n",
            "Epoch 192/300\n",
            "8/8 [==============================] - 0s 3ms/step - loss: 0.3717 - accuracy: 0.8223\n",
            "Epoch 193/300\n",
            "8/8 [==============================] - 0s 3ms/step - loss: 0.3705 - accuracy: 0.8595\n",
            "Epoch 194/300\n",
            "8/8 [==============================] - 0s 3ms/step - loss: 0.3690 - accuracy: 0.8512\n",
            "Epoch 195/300\n",
            "8/8 [==============================] - 0s 3ms/step - loss: 0.3589 - accuracy: 0.8388\n",
            "Epoch 196/300\n",
            "8/8 [==============================] - 0s 3ms/step - loss: 0.3970 - accuracy: 0.8140\n",
            "Epoch 197/300\n",
            "8/8 [==============================] - 0s 3ms/step - loss: 0.3771 - accuracy: 0.8264\n",
            "Epoch 198/300\n",
            "8/8 [==============================] - 0s 3ms/step - loss: 0.4099 - accuracy: 0.8099\n",
            "Epoch 199/300\n",
            "8/8 [==============================] - 0s 3ms/step - loss: 0.3899 - accuracy: 0.8140\n",
            "Epoch 200/300\n",
            "8/8 [==============================] - 0s 3ms/step - loss: 0.3655 - accuracy: 0.8388\n",
            "Epoch 201/300\n",
            "8/8 [==============================] - 0s 4ms/step - loss: 0.4032 - accuracy: 0.8430\n",
            "Epoch 202/300\n",
            "8/8 [==============================] - 0s 3ms/step - loss: 0.4101 - accuracy: 0.7975\n",
            "Epoch 203/300\n",
            "8/8 [==============================] - 0s 3ms/step - loss: 0.3622 - accuracy: 0.8471\n",
            "Epoch 204/300\n",
            "8/8 [==============================] - 0s 3ms/step - loss: 0.3731 - accuracy: 0.8512\n",
            "Epoch 205/300\n",
            "8/8 [==============================] - 0s 3ms/step - loss: 0.3655 - accuracy: 0.8388\n",
            "Epoch 206/300\n",
            "8/8 [==============================] - 0s 2ms/step - loss: 0.3840 - accuracy: 0.8388\n",
            "Epoch 207/300\n",
            "8/8 [==============================] - 0s 3ms/step - loss: 0.3583 - accuracy: 0.8512\n",
            "Epoch 208/300\n",
            "8/8 [==============================] - 0s 3ms/step - loss: 0.3672 - accuracy: 0.8430\n",
            "Epoch 209/300\n",
            "8/8 [==============================] - 0s 3ms/step - loss: 0.3648 - accuracy: 0.8347\n",
            "Epoch 210/300\n",
            "8/8 [==============================] - 0s 3ms/step - loss: 0.3952 - accuracy: 0.8140\n",
            "Epoch 211/300\n",
            "8/8 [==============================] - 0s 3ms/step - loss: 0.3887 - accuracy: 0.8430\n",
            "Epoch 212/300\n",
            "8/8 [==============================] - 0s 3ms/step - loss: 0.3860 - accuracy: 0.8388\n",
            "Epoch 213/300\n",
            "8/8 [==============================] - 0s 4ms/step - loss: 0.4314 - accuracy: 0.7975\n",
            "Epoch 214/300\n",
            "8/8 [==============================] - 0s 3ms/step - loss: 0.4069 - accuracy: 0.8017\n",
            "Epoch 215/300\n",
            "8/8 [==============================] - 0s 3ms/step - loss: 0.3956 - accuracy: 0.8264\n",
            "Epoch 216/300\n",
            "8/8 [==============================] - 0s 3ms/step - loss: 0.3892 - accuracy: 0.8347\n",
            "Epoch 217/300\n",
            "8/8 [==============================] - 0s 3ms/step - loss: 0.4060 - accuracy: 0.8223\n",
            "Epoch 218/300\n",
            "8/8 [==============================] - 0s 3ms/step - loss: 0.4388 - accuracy: 0.7934\n",
            "Epoch 219/300\n",
            "8/8 [==============================] - 0s 3ms/step - loss: 0.4295 - accuracy: 0.8223\n",
            "Epoch 220/300\n",
            "8/8 [==============================] - 0s 3ms/step - loss: 0.5359 - accuracy: 0.7851\n",
            "Epoch 221/300\n",
            "8/8 [==============================] - 0s 3ms/step - loss: 0.4248 - accuracy: 0.8306\n",
            "Epoch 222/300\n",
            "8/8 [==============================] - 0s 3ms/step - loss: 0.3634 - accuracy: 0.8678\n",
            "Epoch 223/300\n",
            "8/8 [==============================] - 0s 4ms/step - loss: 0.3628 - accuracy: 0.8388\n",
            "Epoch 224/300\n",
            "8/8 [==============================] - 0s 4ms/step - loss: 0.3795 - accuracy: 0.8306\n",
            "Epoch 225/300\n",
            "8/8 [==============================] - 0s 3ms/step - loss: 0.3937 - accuracy: 0.8058\n",
            "Epoch 226/300\n",
            "8/8 [==============================] - 0s 3ms/step - loss: 0.3774 - accuracy: 0.8264\n",
            "Epoch 227/300\n",
            "8/8 [==============================] - 0s 3ms/step - loss: 0.3776 - accuracy: 0.8347\n",
            "Epoch 228/300\n",
            "8/8 [==============================] - 0s 3ms/step - loss: 0.3595 - accuracy: 0.8388\n",
            "Epoch 229/300\n",
            "8/8 [==============================] - 0s 3ms/step - loss: 0.3678 - accuracy: 0.8430\n",
            "Epoch 230/300\n",
            "8/8 [==============================] - 0s 3ms/step - loss: 0.3813 - accuracy: 0.8306\n",
            "Epoch 231/300\n",
            "8/8 [==============================] - 0s 4ms/step - loss: 0.3619 - accuracy: 0.8388\n",
            "Epoch 232/300\n",
            "8/8 [==============================] - 0s 3ms/step - loss: 0.3709 - accuracy: 0.8306\n",
            "Epoch 233/300\n",
            "8/8 [==============================] - 0s 3ms/step - loss: 0.3682 - accuracy: 0.8306\n",
            "Epoch 234/300\n",
            "8/8 [==============================] - 0s 3ms/step - loss: 0.3722 - accuracy: 0.8512\n",
            "Epoch 235/300\n",
            "8/8 [==============================] - 0s 3ms/step - loss: 0.3823 - accuracy: 0.8430\n",
            "Epoch 236/300\n",
            "8/8 [==============================] - 0s 3ms/step - loss: 0.3667 - accuracy: 0.8347\n",
            "Epoch 237/300\n",
            "8/8 [==============================] - 0s 3ms/step - loss: 0.3636 - accuracy: 0.8430\n",
            "Epoch 238/300\n",
            "8/8 [==============================] - 0s 3ms/step - loss: 0.3858 - accuracy: 0.8306\n",
            "Epoch 239/300\n",
            "8/8 [==============================] - 0s 3ms/step - loss: 0.3785 - accuracy: 0.8306\n",
            "Epoch 240/300\n",
            "8/8 [==============================] - 0s 3ms/step - loss: 0.3802 - accuracy: 0.8347\n",
            "Epoch 241/300\n",
            "8/8 [==============================] - 0s 3ms/step - loss: 0.3710 - accuracy: 0.8471\n",
            "Epoch 242/300\n",
            "8/8 [==============================] - 0s 4ms/step - loss: 0.3636 - accuracy: 0.8471\n",
            "Epoch 243/300\n",
            "8/8 [==============================] - 0s 3ms/step - loss: 0.4051 - accuracy: 0.8264\n",
            "Epoch 244/300\n",
            "8/8 [==============================] - 0s 4ms/step - loss: 0.3626 - accuracy: 0.8430\n",
            "Epoch 245/300\n",
            "8/8 [==============================] - 0s 3ms/step - loss: 0.3705 - accuracy: 0.8306\n",
            "Epoch 246/300\n",
            "8/8 [==============================] - 0s 3ms/step - loss: 0.3894 - accuracy: 0.8264\n",
            "Epoch 247/300\n",
            "8/8 [==============================] - 0s 4ms/step - loss: 0.3709 - accuracy: 0.8306\n",
            "Epoch 248/300\n",
            "8/8 [==============================] - 0s 3ms/step - loss: 0.3639 - accuracy: 0.8471\n",
            "Epoch 249/300\n",
            "8/8 [==============================] - 0s 3ms/step - loss: 0.3672 - accuracy: 0.8264\n",
            "Epoch 250/300\n",
            "8/8 [==============================] - 0s 3ms/step - loss: 0.3760 - accuracy: 0.8182\n",
            "Epoch 251/300\n",
            "8/8 [==============================] - 0s 3ms/step - loss: 0.3669 - accuracy: 0.8306\n",
            "Epoch 252/300\n",
            "8/8 [==============================] - 0s 4ms/step - loss: 0.3636 - accuracy: 0.8388\n",
            "Epoch 253/300\n",
            "8/8 [==============================] - 0s 3ms/step - loss: 0.3727 - accuracy: 0.8388\n",
            "Epoch 254/300\n",
            "8/8 [==============================] - 0s 3ms/step - loss: 0.3671 - accuracy: 0.8595\n",
            "Epoch 255/300\n",
            "8/8 [==============================] - 0s 3ms/step - loss: 0.3636 - accuracy: 0.8430\n",
            "Epoch 256/300\n",
            "8/8 [==============================] - 0s 3ms/step - loss: 0.3772 - accuracy: 0.8306\n",
            "Epoch 257/300\n",
            "8/8 [==============================] - 0s 5ms/step - loss: 0.3928 - accuracy: 0.8223\n",
            "Epoch 258/300\n",
            "8/8 [==============================] - 0s 3ms/step - loss: 0.3626 - accuracy: 0.8347\n",
            "Epoch 259/300\n",
            "8/8 [==============================] - 0s 3ms/step - loss: 0.3589 - accuracy: 0.8347\n",
            "Epoch 260/300\n",
            "8/8 [==============================] - 0s 3ms/step - loss: 0.3646 - accuracy: 0.8430\n",
            "Epoch 261/300\n",
            "8/8 [==============================] - 0s 3ms/step - loss: 0.3500 - accuracy: 0.8471\n",
            "Epoch 262/300\n",
            "8/8 [==============================] - 0s 3ms/step - loss: 0.3700 - accuracy: 0.8306\n",
            "Epoch 263/300\n",
            "8/8 [==============================] - 0s 3ms/step - loss: 0.4522 - accuracy: 0.8017\n",
            "Epoch 264/300\n",
            "8/8 [==============================] - 0s 4ms/step - loss: 0.4148 - accuracy: 0.8140\n",
            "Epoch 265/300\n",
            "8/8 [==============================] - 0s 3ms/step - loss: 0.3558 - accuracy: 0.8471\n",
            "Epoch 266/300\n",
            "8/8 [==============================] - 0s 3ms/step - loss: 0.3581 - accuracy: 0.8512\n",
            "Epoch 267/300\n",
            "8/8 [==============================] - 0s 3ms/step - loss: 0.4055 - accuracy: 0.8017\n",
            "Epoch 268/300\n",
            "8/8 [==============================] - 0s 3ms/step - loss: 0.3804 - accuracy: 0.8512\n",
            "Epoch 269/300\n",
            "8/8 [==============================] - 0s 3ms/step - loss: 0.3625 - accuracy: 0.8388\n",
            "Epoch 270/300\n",
            "8/8 [==============================] - 0s 3ms/step - loss: 0.3598 - accuracy: 0.8388\n",
            "Epoch 271/300\n",
            "8/8 [==============================] - 0s 4ms/step - loss: 0.3731 - accuracy: 0.8554\n",
            "Epoch 272/300\n",
            "8/8 [==============================] - 0s 3ms/step - loss: 0.3583 - accuracy: 0.8430\n",
            "Epoch 273/300\n",
            "8/8 [==============================] - 0s 3ms/step - loss: 0.3848 - accuracy: 0.8347\n",
            "Epoch 274/300\n",
            "8/8 [==============================] - 0s 3ms/step - loss: 0.3671 - accuracy: 0.8595\n",
            "Epoch 275/300\n",
            "8/8 [==============================] - 0s 3ms/step - loss: 0.4047 - accuracy: 0.8306\n",
            "Epoch 276/300\n",
            "8/8 [==============================] - 0s 3ms/step - loss: 0.3587 - accuracy: 0.8471\n",
            "Epoch 277/300\n",
            "8/8 [==============================] - 0s 4ms/step - loss: 0.3878 - accuracy: 0.8306\n",
            "Epoch 278/300\n",
            "8/8 [==============================] - 0s 3ms/step - loss: 0.3481 - accuracy: 0.8471\n",
            "Epoch 279/300\n",
            "8/8 [==============================] - 0s 3ms/step - loss: 0.3721 - accuracy: 0.8388\n",
            "Epoch 280/300\n",
            "8/8 [==============================] - 0s 4ms/step - loss: 0.3845 - accuracy: 0.8430\n",
            "Epoch 281/300\n",
            "8/8 [==============================] - 0s 3ms/step - loss: 0.4069 - accuracy: 0.8264\n",
            "Epoch 282/300\n",
            "8/8 [==============================] - 0s 3ms/step - loss: 0.3559 - accuracy: 0.8471\n",
            "Epoch 283/300\n",
            "8/8 [==============================] - 0s 4ms/step - loss: 0.3902 - accuracy: 0.8140\n",
            "Epoch 284/300\n",
            "8/8 [==============================] - 0s 3ms/step - loss: 0.3486 - accuracy: 0.8512\n",
            "Epoch 285/300\n",
            "8/8 [==============================] - 0s 4ms/step - loss: 0.3876 - accuracy: 0.8182\n",
            "Epoch 286/300\n",
            "8/8 [==============================] - 0s 3ms/step - loss: 0.3683 - accuracy: 0.8306\n",
            "Epoch 287/300\n",
            "8/8 [==============================] - 0s 3ms/step - loss: 0.3888 - accuracy: 0.8471\n",
            "Epoch 288/300\n",
            "8/8 [==============================] - 0s 4ms/step - loss: 0.3681 - accuracy: 0.8471\n",
            "Epoch 289/300\n",
            "8/8 [==============================] - 0s 3ms/step - loss: 0.3635 - accuracy: 0.8347\n",
            "Epoch 290/300\n",
            "8/8 [==============================] - 0s 3ms/step - loss: 0.3865 - accuracy: 0.8471\n",
            "Epoch 291/300\n",
            "8/8 [==============================] - 0s 3ms/step - loss: 0.4589 - accuracy: 0.8182\n",
            "Epoch 292/300\n",
            "8/8 [==============================] - 0s 4ms/step - loss: 0.3782 - accuracy: 0.8264\n",
            "Epoch 293/300\n",
            "8/8 [==============================] - 0s 3ms/step - loss: 0.3872 - accuracy: 0.8306\n",
            "Epoch 294/300\n",
            "8/8 [==============================] - 0s 3ms/step - loss: 0.3893 - accuracy: 0.8306\n",
            "Epoch 295/300\n",
            "8/8 [==============================] - 0s 3ms/step - loss: 0.4144 - accuracy: 0.8140\n",
            "Epoch 296/300\n",
            "8/8 [==============================] - 0s 3ms/step - loss: 0.3677 - accuracy: 0.8306\n",
            "Epoch 297/300\n",
            "8/8 [==============================] - 0s 3ms/step - loss: 0.3966 - accuracy: 0.8223\n",
            "Epoch 298/300\n",
            "8/8 [==============================] - 0s 3ms/step - loss: 0.3784 - accuracy: 0.8140\n",
            "Epoch 299/300\n",
            "8/8 [==============================] - 0s 4ms/step - loss: 0.3641 - accuracy: 0.8430\n",
            "Epoch 300/300\n",
            "8/8 [==============================] - 0s 3ms/step - loss: 0.3565 - accuracy: 0.8471\n"
          ]
        },
        {
          "output_type": "execute_result",
          "data": {
            "text/plain": [
              "<keras.callbacks.History at 0x7f461bcac790>"
            ]
          },
          "metadata": {},
          "execution_count": 67
        }
      ],
      "source": [
        "model.fit(X_train,Y_train,epochs=300)\n"
      ],
      "id": "2036381e"
    },
    {
      "cell_type": "code",
      "execution_count": 68,
      "metadata": {
        "id": "8a3d7365"
      },
      "outputs": [],
      "source": [
        "Y_pred_nn = model.predict(X_test)"
      ],
      "id": "8a3d7365"
    },
    {
      "cell_type": "code",
      "execution_count": 69,
      "metadata": {
        "colab": {
          "base_uri": "https://localhost:8080/"
        },
        "id": "f0f9e1fa",
        "outputId": "d6b174dc-040d-4553-eff4-9d0f9c7d7864"
      },
      "outputs": [
        {
          "output_type": "execute_result",
          "data": {
            "text/plain": [
              "(61, 1)"
            ]
          },
          "metadata": {},
          "execution_count": 69
        }
      ],
      "source": [
        "Y_pred_nn.shape"
      ],
      "id": "f0f9e1fa"
    },
    {
      "cell_type": "code",
      "execution_count": 70,
      "metadata": {
        "id": "f324df8b"
      },
      "outputs": [],
      "source": [
        "rounded = [round(x[0]) for x in Y_pred_nn]\n",
        "\n",
        "Y_pred_nn = rounded"
      ],
      "id": "f324df8b"
    },
    {
      "cell_type": "code",
      "execution_count": 71,
      "metadata": {
        "colab": {
          "base_uri": "https://localhost:8080/"
        },
        "id": "e0a8bce6",
        "outputId": "13be1dc6-6235-4ca8-e1ae-ad8c177a211e"
      },
      "outputs": [
        {
          "output_type": "stream",
          "name": "stdout",
          "text": [
            "The accuracy score achieved using Neural Network is: 85.25 %\n"
          ]
        }
      ],
      "source": [
        "score_nn = round(accuracy_score(Y_pred_nn,Y_test)*100,2)\n",
        "\n",
        "print(\"The accuracy score achieved using Neural Network is: \"+str(score_nn)+\" %\")\n",
        "\n",
        "#Note: Accuracy of 85% can be achieved on the test set, by setting epochs=2000, and number of nodes = 11."
      ],
      "id": "e0a8bce6"
    },
    {
      "cell_type": "code",
      "execution_count": 72,
      "metadata": {
        "colab": {
          "base_uri": "https://localhost:8080/"
        },
        "id": "19ef7e9e",
        "outputId": "860b2a38-a258-451b-afa5-d2b993f9f2db"
      },
      "outputs": [
        {
          "output_type": "stream",
          "name": "stdout",
          "text": [
            "The accuracy score achieved using Logistic Regression is: 85.25 %\n",
            "The accuracy score achieved using Naive Bayes is: 85.25 %\n",
            "The accuracy score achieved using Support Vector Machine is: 81.97 %\n",
            "The accuracy score achieved using K-Nearest Neighbors is: 67.21 %\n",
            "The accuracy score achieved using Decision Tree is: 81.97 %\n",
            "The accuracy score achieved using Random Forest is: 90.16 %\n",
            "The accuracy score achieved using XGBoost is: 85.25 %\n",
            "The accuracy score achieved using Neural Network is: 85.25 %\n"
          ]
        }
      ],
      "source": [
        "scores = [score_lr,score_nb,score_svm,score_knn,score_dt,score_rf,score_xgb,score_nn]\n",
        "algorithms = [\"Logistic Regression\",\"Naive Bayes\",\"Support Vector Machine\",\"K-Nearest Neighbors\",\"Decision Tree\",\"Random Forest\",\"XGBoost\",\"Neural Network\"]    \n",
        "\n",
        "for i in range(len(algorithms)):\n",
        "    print(\"The accuracy score achieved using \"+algorithms[i]+\" is: \"+str(scores[i])+\" %\")"
      ],
      "id": "19ef7e9e"
    },
    {
      "cell_type": "code",
      "execution_count": 73,
      "metadata": {
        "colab": {
          "base_uri": "https://localhost:8080/",
          "height": 519
        },
        "id": "afab7021",
        "outputId": "5d29a4bd-08fe-409b-ede4-39cda4816996"
      },
      "outputs": [
        {
          "output_type": "execute_result",
          "data": {
            "text/plain": [
              "<matplotlib.axes._subplots.AxesSubplot at 0x7f461a447250>"
            ]
          },
          "metadata": {},
          "execution_count": 73
        },
        {
          "output_type": "display_data",
          "data": {
            "text/plain": [
              "<Figure size 1080x576 with 1 Axes>"
            ],
            "image/png": "[encoded data removed]"
          },
          "metadata": {}
        }
      ],
      "source": [
        "sns.set(rc={'figure.figsize':(15,8)})\n",
        "plt.xlabel(\"Algorithms\")\n",
        "plt.ylabel(\"Accuracy score\")\n",
        "\n",
        "sns.barplot(algorithms,scores)"
      ],
      "id": "afab7021"
    },
    {
      "cell_type": "code",
      "execution_count": 74,
      "metadata": {
        "colab": {
          "base_uri": "https://localhost:8080/"
        },
        "id": "632329a6",
        "outputId": "4b30a3ce-0bc3-44a9-9bb8-64f487c55ee8"
      },
      "outputs": [
        {
          "output_type": "stream",
          "name": "stdout",
          "text": [
            "[[0.1139687]]\n",
            "The Person has Heart Disease\n"
          ]
        }
      ],
      "source": [
        "input_data = (62,0,0,140,268,0,0,160,0,3.6,0,2,2)\n",
        "\n",
        "# change the input data to a numpy array\n",
        "input_data_as_numpy_array= np.asarray(input_data)\n",
        "\n",
        "# reshape the numpy array as we are predicting for only on instance\n",
        "input_data_reshaped = input_data_as_numpy_array.reshape(1,-1)\n",
        "\n",
        "prediction = model.predict(input_data_reshaped)\n",
        "print(prediction)\n",
        "\n",
        "if (prediction[0]== 0):\n",
        "  print('The Person does not have a Heart Disease')\n",
        "else:\n",
        "  print('The Person has Heart Disease')"
      ],
      "id": "632329a6"
    },
    {
      "cell_type": "code",
      "execution_count": 74,
      "metadata": {
        "id": "1d068486"
      },
      "outputs": [],
      "source": [
        ""
      ],
      "id": "1d068486"
    }
  ],
  "metadata": {
    "colab": {
      "name": "heart disease prediction.ipynb",
      "provenance": [],
      "include_colab_link": true
    },
    "kernelspec": {
      "display_name": "Python 3 (ipykernel)",
      "language": "python",
      "name": "python3"
    },
    "language_info": {
      "codemirror_mode": {
        "name": "ipython",
        "version": 3
      },
      "file_extension": ".py",
      "mimetype": "text/x-python",
      "name": "python",
      "nbconvert_exporter": "python",
      "pygments_lexer": "ipython3",
      "version": "3.9.7"
    }
  },
  "nbformat": 4,
  "nbformat_minor": 5
}